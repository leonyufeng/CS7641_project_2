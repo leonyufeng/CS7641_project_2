{
 "cells": [
  {
   "cell_type": "code",
   "execution_count": 1,
   "id": "initial_id",
   "metadata": {
    "ExecuteTime": {
     "end_time": "2023-10-15T20:39:19.102632317Z",
     "start_time": "2023-10-15T20:39:18.218744210Z"
    }
   },
   "outputs": [],
   "source": [
    "import os\n",
    "import time\n",
    "import numpy as np\n",
    "import pandas as pd\n",
    "import matplotlib.pyplot as plt\n",
    "import mlrose_hiive"
   ]
  },
  {
   "cell_type": "code",
   "execution_count": 2,
   "id": "79f0f77bdf880e82",
   "metadata": {
    "ExecuteTime": {
     "end_time": "2023-10-15T20:39:19.103259613Z",
     "start_time": "2023-10-15T20:39:19.052858020Z"
    },
    "collapsed": false,
    "jupyter": {
     "outputs_hidden": false
    }
   },
   "outputs": [],
   "source": [
    "result_dir = \"results\"\n",
    "os.makedirs(result_dir, exist_ok=True)"
   ]
  },
  {
   "cell_type": "code",
   "execution_count": 3,
   "id": "edd47db26dd1412b",
   "metadata": {
    "ExecuteTime": {
     "end_time": "2023-10-15T20:39:19.108108708Z",
     "start_time": "2023-10-15T20:39:19.057675232Z"
    },
    "collapsed": false,
    "jupyter": {
     "outputs_hidden": false
    }
   },
   "outputs": [],
   "source": [
    "random_seed = 100\n",
    "problem_size_list = [50, 100, 200, 400]\n",
    "iteration_list = [100, 500, 1000, 2000]\n",
    "restart_list = [4, 8, 16]\n",
    "max_attempts = 100\n",
    "sa_temp_list = [0.1, 0.5, 0.75, 1.0, 2.0, 5.0]\n",
    "sa_decay_schedule = {\"ExpDecay\": mlrose_hiive.ExpDecay(), \"ArithDecay\": mlrose_hiive.ArithDecay(), \"GeomDecay\": mlrose_hiive.GeomDecay()}\n",
    "ga_population_size_list = [10, 50, 200, 800, 3200]\n",
    "ga_mutation_prob_list = [0.1, 0.2, 0.5]\n",
    "\n",
    "mimic_population_size_list = [10, 50, 100, 200, 400]\n",
    "mimic_keep_pct_list = [0.1, 0.2, 0.3, 0.4, 0.5]"
   ]
  },
  {
   "cell_type": "code",
   "execution_count": 4,
   "id": "3104de29f164a25d",
   "metadata": {
    "ExecuteTime": {
     "end_time": "2023-10-15T20:39:19.520407339Z",
     "start_time": "2023-10-15T20:39:19.472893920Z"
    },
    "collapsed": false,
    "jupyter": {
     "outputs_hidden": false
    }
   },
   "outputs": [],
   "source": [
    "problem_name = \"ContinuousPeaks\""
   ]
  },
  {
   "cell_type": "markdown",
   "id": "85e575ff8a59cbf7",
   "metadata": {
    "collapsed": false,
    "jupyter": {
     "outputs_hidden": false
    }
   },
   "source": [
    "## 1. Random Hill Climbing"
   ]
  },
  {
   "cell_type": "markdown",
   "id": "b0d1f2fb2cc7adf8",
   "metadata": {
    "collapsed": false,
    "jupyter": {
     "outputs_hidden": false
    }
   },
   "source": []
  },
  {
   "cell_type": "code",
   "execution_count": 5,
   "id": "9052f338c9499832",
   "metadata": {
    "ExecuteTime": {
     "end_time": "2023-10-15T20:39:39.115498354Z",
     "start_time": "2023-10-15T20:39:20.561366318Z"
    },
    "collapsed": false,
    "jupyter": {
     "outputs_hidden": false
    }
   },
   "outputs": [
    {
     "name": "stdout",
     "output_type": "stream",
     "text": [
      "problem_size: 50\n",
      "problem_size: 100\n",
      "problem_size: 200\n",
      "problem_size: 400\n"
     ]
    }
   ],
   "source": [
    "rhc_df = None\n",
    "\n",
    "for problem_size in problem_size_list:\n",
    "    print(f\"problem_size: {problem_size}\")\n",
    "    \n",
    "    problem = mlrose_hiive.FlipFlopGenerator.generate(seed=random_seed, size=problem_size)\n",
    "    \n",
    "    start_time = time.time()\n",
    "    rhc_runner = mlrose_hiive.RHCRunner(problem=problem, \n",
    "                                        experiment_name=\"ContinuousPeaks_RHC\", \n",
    "                                        output_directory=None,\n",
    "                                        seed=random_seed, \n",
    "                                        iteration_list=iteration_list, \n",
    "                                        restart_list=restart_list,\n",
    "                                        max_attempts=max_attempts, \n",
    "                                        generate_curves=True\n",
    "                                        )\n",
    "    rhc_run_stats, rhc_run_curves = rhc_runner.run()\n",
    "    runtime = time.time() - start_time\n",
    "    \n",
    "    rhc_run_stats['Algorithm'] = \"RHC\"\n",
    "    rhc_run_stats['Problem_size'] = problem_size\n",
    "    rhc_run_stats['Runtime'] = runtime\n",
    "\n",
    "    \n",
    "    if rhc_df is None:\n",
    "        rhc_df = rhc_run_stats\n",
    "    else:\n",
    "        rhc_df = pd.concat([rhc_df, rhc_run_stats], ignore_index=True)\n",
    "    \n",
    "rhc_df.to_csv(os.path.join(result_dir, problem_name + \"_\" + \"RHC\"+\".csv\")) "
   ]
  },
  {
   "cell_type": "code",
   "execution_count": 6,
   "id": "cc18d02f945d0107",
   "metadata": {
    "ExecuteTime": {
     "end_time": "2023-10-15T20:39:39.128411657Z",
     "start_time": "2023-10-15T20:39:39.117603110Z"
    },
    "collapsed": false,
    "jupyter": {
     "outputs_hidden": false
    }
   },
   "outputs": [
    {
     "data": {
      "text/html": [
       "<div>\n",
       "<style scoped>\n",
       "    .dataframe tbody tr th:only-of-type {\n",
       "        vertical-align: middle;\n",
       "    }\n",
       "\n",
       "    .dataframe tbody tr th {\n",
       "        vertical-align: top;\n",
       "    }\n",
       "\n",
       "    .dataframe thead th {\n",
       "        text-align: right;\n",
       "    }\n",
       "</style>\n",
       "<table border=\"1\" class=\"dataframe\">\n",
       "  <thead>\n",
       "    <tr style=\"text-align: right;\">\n",
       "      <th></th>\n",
       "      <th>Iteration</th>\n",
       "      <th>Fitness</th>\n",
       "      <th>FEvals</th>\n",
       "      <th>Time</th>\n",
       "      <th>State</th>\n",
       "      <th>Restarts</th>\n",
       "      <th>max_iters</th>\n",
       "      <th>current_restart</th>\n",
       "      <th>Algorithm</th>\n",
       "      <th>Problem_size</th>\n",
       "      <th>Runtime</th>\n",
       "    </tr>\n",
       "  </thead>\n",
       "  <tbody>\n",
       "    <tr>\n",
       "      <th>0</th>\n",
       "      <td>0</td>\n",
       "      <td>19.0</td>\n",
       "      <td>0</td>\n",
       "      <td>0.000158</td>\n",
       "      <td>[0, 0, 1, 1, 1, 1, 0, 0, 0, 0, 0, 1, 0, 0, 0, ...</td>\n",
       "      <td>4</td>\n",
       "      <td>2000</td>\n",
       "      <td>0</td>\n",
       "      <td>RHC</td>\n",
       "      <td>50</td>\n",
       "      <td>2.272625</td>\n",
       "    </tr>\n",
       "    <tr>\n",
       "      <th>1</th>\n",
       "      <td>100</td>\n",
       "      <td>40.0</td>\n",
       "      <td>111</td>\n",
       "      <td>0.009756</td>\n",
       "      <td>[1, 0, 1, 1, 0, 1, 0, 1, 0, 1, 0, 1, 0, 1, 0, ...</td>\n",
       "      <td>4</td>\n",
       "      <td>2000</td>\n",
       "      <td>0</td>\n",
       "      <td>RHC</td>\n",
       "      <td>50</td>\n",
       "      <td>2.272625</td>\n",
       "    </tr>\n",
       "    <tr>\n",
       "      <th>2</th>\n",
       "      <td>500</td>\n",
       "      <td>42.0</td>\n",
       "      <td>232</td>\n",
       "      <td>0.025665</td>\n",
       "      <td>[1, 0, 1, 1, 0, 1, 0, 1, 0, 1, 0, 1, 0, 1, 0, ...</td>\n",
       "      <td>4</td>\n",
       "      <td>2000</td>\n",
       "      <td>0</td>\n",
       "      <td>RHC</td>\n",
       "      <td>50</td>\n",
       "      <td>2.272625</td>\n",
       "    </tr>\n",
       "    <tr>\n",
       "      <th>3</th>\n",
       "      <td>1000</td>\n",
       "      <td>42.0</td>\n",
       "      <td>232</td>\n",
       "      <td>0.025665</td>\n",
       "      <td>[1, 0, 1, 1, 0, 1, 0, 1, 0, 1, 0, 1, 0, 1, 0, ...</td>\n",
       "      <td>4</td>\n",
       "      <td>2000</td>\n",
       "      <td>0</td>\n",
       "      <td>RHC</td>\n",
       "      <td>50</td>\n",
       "      <td>2.272625</td>\n",
       "    </tr>\n",
       "    <tr>\n",
       "      <th>4</th>\n",
       "      <td>2000</td>\n",
       "      <td>42.0</td>\n",
       "      <td>232</td>\n",
       "      <td>0.025665</td>\n",
       "      <td>[1, 0, 1, 1, 0, 1, 0, 1, 0, 1, 0, 1, 0, 1, 0, ...</td>\n",
       "      <td>4</td>\n",
       "      <td>2000</td>\n",
       "      <td>0</td>\n",
       "      <td>RHC</td>\n",
       "      <td>50</td>\n",
       "      <td>2.272625</td>\n",
       "    </tr>\n",
       "  </tbody>\n",
       "</table>\n",
       "</div>"
      ],
      "text/plain": [
       "   Iteration  Fitness  FEvals      Time  \\\n",
       "0          0     19.0       0  0.000158   \n",
       "1        100     40.0     111  0.009756   \n",
       "2        500     42.0     232  0.025665   \n",
       "3       1000     42.0     232  0.025665   \n",
       "4       2000     42.0     232  0.025665   \n",
       "\n",
       "                                               State  Restarts  max_iters  \\\n",
       "0  [0, 0, 1, 1, 1, 1, 0, 0, 0, 0, 0, 1, 0, 0, 0, ...         4       2000   \n",
       "1  [1, 0, 1, 1, 0, 1, 0, 1, 0, 1, 0, 1, 0, 1, 0, ...         4       2000   \n",
       "2  [1, 0, 1, 1, 0, 1, 0, 1, 0, 1, 0, 1, 0, 1, 0, ...         4       2000   \n",
       "3  [1, 0, 1, 1, 0, 1, 0, 1, 0, 1, 0, 1, 0, 1, 0, ...         4       2000   \n",
       "4  [1, 0, 1, 1, 0, 1, 0, 1, 0, 1, 0, 1, 0, 1, 0, ...         4       2000   \n",
       "\n",
       "   current_restart Algorithm  Problem_size   Runtime  \n",
       "0                0       RHC            50  2.272625  \n",
       "1                0       RHC            50  2.272625  \n",
       "2                0       RHC            50  2.272625  \n",
       "3                0       RHC            50  2.272625  \n",
       "4                0       RHC            50  2.272625  "
      ]
     },
     "execution_count": 6,
     "metadata": {},
     "output_type": "execute_result"
    }
   ],
   "source": [
    "rhc_df.head()"
   ]
  },
  {
   "cell_type": "code",
   "execution_count": 7,
   "id": "21034aad496aa7e0",
   "metadata": {
    "ExecuteTime": {
     "end_time": "2023-10-15T20:39:39.149140930Z",
     "start_time": "2023-10-15T20:39:39.125942112Z"
    },
    "collapsed": false,
    "jupyter": {
     "outputs_hidden": false
    }
   },
   "outputs": [
    {
     "data": {
      "text/plain": [
       "Index(['Iteration', 'Fitness', 'FEvals', 'Time', 'State', 'Restarts',\n",
       "       'max_iters', 'current_restart', 'Algorithm', 'Problem_size', 'Runtime'],\n",
       "      dtype='object')"
      ]
     },
     "execution_count": 7,
     "metadata": {},
     "output_type": "execute_result"
    }
   ],
   "source": [
    "rhc_df.columns"
   ]
  },
  {
   "cell_type": "code",
   "execution_count": 30,
   "id": "4b3ce0a33ad1bece",
   "metadata": {
    "ExecuteTime": {
     "end_time": "2023-10-15T20:39:39.289100289Z",
     "start_time": "2023-10-15T20:39:39.144738880Z"
    },
    "collapsed": false,
    "jupyter": {
     "outputs_hidden": false
    }
   },
   "outputs": [
    {
     "data": {
      "image/png": "[encoded data removed]",
      "text/plain": [
       "<Figure size 640x480 with 1 Axes>"
      ]
     },
     "metadata": {},
     "output_type": "display_data"
    }
   ],
   "source": [
    "plot_df = rhc_df[['Problem_size', 'Iteration', 'Fitness']].groupby(['Problem_size', 'Iteration']).mean().reset_index()\n",
    "for problem_size, color in zip(problem_size_list, ['r', 'g', 'b', 'orange']):\n",
    "    plt.plot(plot_df[plot_df['Problem_size']==problem_size]['Iteration'], plot_df[plot_df['Problem_size']==problem_size]['Fitness'], color, label=str(problem_size))\n",
    "\n",
    "plt.xlabel(\"Iterations\")\n",
    "plt.ylabel(\"Fitness score\")\n",
    "plt.title('RHC various problem size fitness over iterations')\n",
    "plt.legend()\n",
    "plt.show()"
   ]
  },
  {
   "cell_type": "markdown",
   "id": "651498bb89e0a87f",
   "metadata": {
    "collapsed": false,
    "jupyter": {
     "outputs_hidden": false
    }
   },
   "source": [
    "## 2. Simulated Annealing"
   ]
  },
  {
   "cell_type": "code",
   "execution_count": 9,
   "id": "351cd280082c52d2",
   "metadata": {
    "ExecuteTime": {
     "end_time": "2023-10-15T20:40:25.535407408Z",
     "start_time": "2023-10-15T20:39:39.277742846Z"
    },
    "collapsed": false,
    "jupyter": {
     "outputs_hidden": false
    }
   },
   "outputs": [
    {
     "name": "stdout",
     "output_type": "stream",
     "text": [
      "problem_size: 50\n",
      "problem_size: 100\n",
      "problem_size: 200\n",
      "problem_size: 400\n"
     ]
    }
   ],
   "source": [
    "sa_df = None\n",
    "\n",
    "for problem_size in problem_size_list:\n",
    "    print(f\"problem_size: {problem_size}\")\n",
    "    \n",
    "    problem = mlrose_hiive.FlipFlopGenerator.generate(seed=random_seed, size=problem_size)\n",
    "    \n",
    "    start_time = time.time()\n",
    "    sa_runner = mlrose_hiive.SARunner(problem=problem,\n",
    "              experiment_name='ContinuousPeaks_SA',\n",
    "              output_directory=None, # note: specify an output directory to have results saved to disk\n",
    "              seed=random_seed,\n",
    "              iteration_list=iteration_list,\n",
    "              max_attempts=max_attempts,\n",
    "              temperature_list=sa_temp_list,\n",
    "              decay_list=[mlrose_hiive.GeomDecay, mlrose_hiive.ArithDecay, mlrose_hiive.ExpDecay],\n",
    "              generate_curves=True)\n",
    "\n",
    "    sa_run_stats, sa_run_curves = sa_runner.run()\n",
    "    runtime = time.time() - start_time\n",
    "    \n",
    "    sa_run_stats['Algorithm'] = \"SA\"\n",
    "    sa_run_stats['Problem_size'] = problem_size\n",
    "    sa_run_stats['Runtime'] = runtime\n",
    "\n",
    "    if sa_df is None:\n",
    "        sa_df = sa_run_stats\n",
    "    else:\n",
    "        sa_df = pd.concat([sa_df, sa_run_stats], ignore_index=True)\n",
    "    \n",
    "sa_df.to_csv(os.path.join(result_dir, problem_name + \"_\" + \"SA\"+\".csv\")) "
   ]
  },
  {
   "cell_type": "code",
   "execution_count": 10,
   "id": "129db920e79b8b4e",
   "metadata": {
    "ExecuteTime": {
     "end_time": "2023-10-15T20:40:25.556146248Z",
     "start_time": "2023-10-15T20:40:25.540889812Z"
    },
    "collapsed": false,
    "jupyter": {
     "outputs_hidden": false
    }
   },
   "outputs": [
    {
     "data": {
      "text/html": [
       "<div>\n",
       "<style scoped>\n",
       "    .dataframe tbody tr th:only-of-type {\n",
       "        vertical-align: middle;\n",
       "    }\n",
       "\n",
       "    .dataframe tbody tr th {\n",
       "        vertical-align: top;\n",
       "    }\n",
       "\n",
       "    .dataframe thead th {\n",
       "        text-align: right;\n",
       "    }\n",
       "</style>\n",
       "<table border=\"1\" class=\"dataframe\">\n",
       "  <thead>\n",
       "    <tr style=\"text-align: right;\">\n",
       "      <th></th>\n",
       "      <th>Iteration</th>\n",
       "      <th>Fitness</th>\n",
       "      <th>FEvals</th>\n",
       "      <th>Time</th>\n",
       "      <th>State</th>\n",
       "      <th>schedule_type</th>\n",
       "      <th>schedule_init_temp</th>\n",
       "      <th>schedule_decay</th>\n",
       "      <th>schedule_min_temp</th>\n",
       "      <th>schedule_current_value</th>\n",
       "      <th>Temperature</th>\n",
       "      <th>max_iters</th>\n",
       "      <th>schedule_exp_const</th>\n",
       "      <th>Algorithm</th>\n",
       "      <th>Problem_size</th>\n",
       "      <th>Runtime</th>\n",
       "    </tr>\n",
       "  </thead>\n",
       "  <tbody>\n",
       "    <tr>\n",
       "      <th>0</th>\n",
       "      <td>0</td>\n",
       "      <td>19.0</td>\n",
       "      <td>0</td>\n",
       "      <td>0.000073</td>\n",
       "      <td>[0, 0, 1, 1, 1, 1, 0, 0, 0, 0, 0, 1, 0, 0, 0, ...</td>\n",
       "      <td>geometric</td>\n",
       "      <td>0.1</td>\n",
       "      <td>0.99</td>\n",
       "      <td>0.001</td>\n",
       "      <td>0.100000</td>\n",
       "      <td>0.1</td>\n",
       "      <td>2000</td>\n",
       "      <td>NaN</td>\n",
       "      <td>SA</td>\n",
       "      <td>50</td>\n",
       "      <td>8.638677</td>\n",
       "    </tr>\n",
       "    <tr>\n",
       "      <th>1</th>\n",
       "      <td>100</td>\n",
       "      <td>38.0</td>\n",
       "      <td>142</td>\n",
       "      <td>0.006477</td>\n",
       "      <td>[1, 0, 1, 1, 0, 1, 0, 1, 0, 0, 1, 0, 0, 1, 0, ...</td>\n",
       "      <td>geometric</td>\n",
       "      <td>0.1</td>\n",
       "      <td>0.99</td>\n",
       "      <td>0.001</td>\n",
       "      <td>0.099993</td>\n",
       "      <td>0.1</td>\n",
       "      <td>2000</td>\n",
       "      <td>NaN</td>\n",
       "      <td>SA</td>\n",
       "      <td>50</td>\n",
       "      <td>8.638677</td>\n",
       "    </tr>\n",
       "    <tr>\n",
       "      <th>2</th>\n",
       "      <td>500</td>\n",
       "      <td>44.0</td>\n",
       "      <td>669</td>\n",
       "      <td>0.049959</td>\n",
       "      <td>[0, 1, 0, 1, 0, 1, 0, 1, 0, 1, 0, 1, 0, 1, 0, ...</td>\n",
       "      <td>geometric</td>\n",
       "      <td>0.1</td>\n",
       "      <td>0.99</td>\n",
       "      <td>0.001</td>\n",
       "      <td>0.099950</td>\n",
       "      <td>0.1</td>\n",
       "      <td>2000</td>\n",
       "      <td>NaN</td>\n",
       "      <td>SA</td>\n",
       "      <td>50</td>\n",
       "      <td>8.638677</td>\n",
       "    </tr>\n",
       "    <tr>\n",
       "      <th>3</th>\n",
       "      <td>1000</td>\n",
       "      <td>46.0</td>\n",
       "      <td>1235</td>\n",
       "      <td>0.153519</td>\n",
       "      <td>[0, 1, 0, 1, 0, 1, 0, 1, 0, 1, 0, 1, 0, 1, 0, ...</td>\n",
       "      <td>geometric</td>\n",
       "      <td>0.1</td>\n",
       "      <td>0.99</td>\n",
       "      <td>0.001</td>\n",
       "      <td>0.099846</td>\n",
       "      <td>0.1</td>\n",
       "      <td>2000</td>\n",
       "      <td>NaN</td>\n",
       "      <td>SA</td>\n",
       "      <td>50</td>\n",
       "      <td>8.638677</td>\n",
       "    </tr>\n",
       "    <tr>\n",
       "      <th>4</th>\n",
       "      <td>2000</td>\n",
       "      <td>48.0</td>\n",
       "      <td>1736</td>\n",
       "      <td>0.301666</td>\n",
       "      <td>[0, 1, 0, 1, 0, 1, 0, 1, 0, 1, 0, 1, 0, 1, 0, ...</td>\n",
       "      <td>geometric</td>\n",
       "      <td>0.1</td>\n",
       "      <td>0.99</td>\n",
       "      <td>0.001</td>\n",
       "      <td>0.099697</td>\n",
       "      <td>0.1</td>\n",
       "      <td>2000</td>\n",
       "      <td>NaN</td>\n",
       "      <td>SA</td>\n",
       "      <td>50</td>\n",
       "      <td>8.638677</td>\n",
       "    </tr>\n",
       "    <tr>\n",
       "      <th>...</th>\n",
       "      <td>...</td>\n",
       "      <td>...</td>\n",
       "      <td>...</td>\n",
       "      <td>...</td>\n",
       "      <td>...</td>\n",
       "      <td>...</td>\n",
       "      <td>...</td>\n",
       "      <td>...</td>\n",
       "      <td>...</td>\n",
       "      <td>...</td>\n",
       "      <td>...</td>\n",
       "      <td>...</td>\n",
       "      <td>...</td>\n",
       "      <td>...</td>\n",
       "      <td>...</td>\n",
       "      <td>...</td>\n",
       "    </tr>\n",
       "    <tr>\n",
       "      <th>355</th>\n",
       "      <td>0</td>\n",
       "      <td>211.0</td>\n",
       "      <td>0</td>\n",
       "      <td>0.000295</td>\n",
       "      <td>[0, 0, 1, 1, 1, 1, 0, 0, 0, 0, 0, 1, 0, 0, 0, ...</td>\n",
       "      <td>exponential</td>\n",
       "      <td>5.0</td>\n",
       "      <td>NaN</td>\n",
       "      <td>0.001</td>\n",
       "      <td>4.999993</td>\n",
       "      <td>5.0</td>\n",
       "      <td>2000</td>\n",
       "      <td>0.005</td>\n",
       "      <td>SA</td>\n",
       "      <td>400</td>\n",
       "      <td>15.660895</td>\n",
       "    </tr>\n",
       "    <tr>\n",
       "      <th>356</th>\n",
       "      <td>100</td>\n",
       "      <td>211.0</td>\n",
       "      <td>187</td>\n",
       "      <td>0.052205</td>\n",
       "      <td>[0, 0, 1, 1, 1, 1, 1, 0, 1, 0, 1, 0, 0, 0, 0, ...</td>\n",
       "      <td>exponential</td>\n",
       "      <td>5.0</td>\n",
       "      <td>NaN</td>\n",
       "      <td>0.001</td>\n",
       "      <td>4.998695</td>\n",
       "      <td>5.0</td>\n",
       "      <td>2000</td>\n",
       "      <td>0.005</td>\n",
       "      <td>SA</td>\n",
       "      <td>400</td>\n",
       "      <td>15.660895</td>\n",
       "    </tr>\n",
       "    <tr>\n",
       "      <th>357</th>\n",
       "      <td>500</td>\n",
       "      <td>278.0</td>\n",
       "      <td>872</td>\n",
       "      <td>0.187631</td>\n",
       "      <td>[1, 0, 1, 1, 0, 1, 0, 1, 1, 0, 1, 1, 0, 1, 0, ...</td>\n",
       "      <td>exponential</td>\n",
       "      <td>5.0</td>\n",
       "      <td>NaN</td>\n",
       "      <td>0.001</td>\n",
       "      <td>4.995311</td>\n",
       "      <td>5.0</td>\n",
       "      <td>2000</td>\n",
       "      <td>0.005</td>\n",
       "      <td>SA</td>\n",
       "      <td>400</td>\n",
       "      <td>15.660895</td>\n",
       "    </tr>\n",
       "    <tr>\n",
       "      <th>358</th>\n",
       "      <td>1000</td>\n",
       "      <td>323.0</td>\n",
       "      <td>1581</td>\n",
       "      <td>0.385810</td>\n",
       "      <td>[0, 1, 0, 1, 0, 1, 0, 1, 0, 1, 0, 1, 0, 1, 1, ...</td>\n",
       "      <td>exponential</td>\n",
       "      <td>5.0</td>\n",
       "      <td>NaN</td>\n",
       "      <td>0.001</td>\n",
       "      <td>4.990364</td>\n",
       "      <td>5.0</td>\n",
       "      <td>2000</td>\n",
       "      <td>0.005</td>\n",
       "      <td>SA</td>\n",
       "      <td>400</td>\n",
       "      <td>15.660895</td>\n",
       "    </tr>\n",
       "    <tr>\n",
       "      <th>359</th>\n",
       "      <td>2000</td>\n",
       "      <td>353.0</td>\n",
       "      <td>2865</td>\n",
       "      <td>0.907702</td>\n",
       "      <td>[0, 1, 0, 1, 0, 1, 0, 1, 0, 1, 0, 1, 0, 1, 0, ...</td>\n",
       "      <td>exponential</td>\n",
       "      <td>5.0</td>\n",
       "      <td>NaN</td>\n",
       "      <td>0.001</td>\n",
       "      <td>4.977359</td>\n",
       "      <td>5.0</td>\n",
       "      <td>2000</td>\n",
       "      <td>0.005</td>\n",
       "      <td>SA</td>\n",
       "      <td>400</td>\n",
       "      <td>15.660895</td>\n",
       "    </tr>\n",
       "  </tbody>\n",
       "</table>\n",
       "<p>360 rows × 16 columns</p>\n",
       "</div>"
      ],
      "text/plain": [
       "     Iteration  Fitness  FEvals      Time  \\\n",
       "0            0     19.0       0  0.000073   \n",
       "1          100     38.0     142  0.006477   \n",
       "2          500     44.0     669  0.049959   \n",
       "3         1000     46.0    1235  0.153519   \n",
       "4         2000     48.0    1736  0.301666   \n",
       "..         ...      ...     ...       ...   \n",
       "355          0    211.0       0  0.000295   \n",
       "356        100    211.0     187  0.052205   \n",
       "357        500    278.0     872  0.187631   \n",
       "358       1000    323.0    1581  0.385810   \n",
       "359       2000    353.0    2865  0.907702   \n",
       "\n",
       "                                                 State schedule_type  \\\n",
       "0    [0, 0, 1, 1, 1, 1, 0, 0, 0, 0, 0, 1, 0, 0, 0, ...     geometric   \n",
       "1    [1, 0, 1, 1, 0, 1, 0, 1, 0, 0, 1, 0, 0, 1, 0, ...     geometric   \n",
       "2    [0, 1, 0, 1, 0, 1, 0, 1, 0, 1, 0, 1, 0, 1, 0, ...     geometric   \n",
       "3    [0, 1, 0, 1, 0, 1, 0, 1, 0, 1, 0, 1, 0, 1, 0, ...     geometric   \n",
       "4    [0, 1, 0, 1, 0, 1, 0, 1, 0, 1, 0, 1, 0, 1, 0, ...     geometric   \n",
       "..                                                 ...           ...   \n",
       "355  [0, 0, 1, 1, 1, 1, 0, 0, 0, 0, 0, 1, 0, 0, 0, ...   exponential   \n",
       "356  [0, 0, 1, 1, 1, 1, 1, 0, 1, 0, 1, 0, 0, 0, 0, ...   exponential   \n",
       "357  [1, 0, 1, 1, 0, 1, 0, 1, 1, 0, 1, 1, 0, 1, 0, ...   exponential   \n",
       "358  [0, 1, 0, 1, 0, 1, 0, 1, 0, 1, 0, 1, 0, 1, 1, ...   exponential   \n",
       "359  [0, 1, 0, 1, 0, 1, 0, 1, 0, 1, 0, 1, 0, 1, 0, ...   exponential   \n",
       "\n",
       "     schedule_init_temp  schedule_decay  schedule_min_temp  \\\n",
       "0                   0.1            0.99              0.001   \n",
       "1                   0.1            0.99              0.001   \n",
       "2                   0.1            0.99              0.001   \n",
       "3                   0.1            0.99              0.001   \n",
       "4                   0.1            0.99              0.001   \n",
       "..                  ...             ...                ...   \n",
       "355                 5.0             NaN              0.001   \n",
       "356                 5.0             NaN              0.001   \n",
       "357                 5.0             NaN              0.001   \n",
       "358                 5.0             NaN              0.001   \n",
       "359                 5.0             NaN              0.001   \n",
       "\n",
       "     schedule_current_value Temperature  max_iters  schedule_exp_const  \\\n",
       "0                  0.100000         0.1       2000                 NaN   \n",
       "1                  0.099993         0.1       2000                 NaN   \n",
       "2                  0.099950         0.1       2000                 NaN   \n",
       "3                  0.099846         0.1       2000                 NaN   \n",
       "4                  0.099697         0.1       2000                 NaN   \n",
       "..                      ...         ...        ...                 ...   \n",
       "355                4.999993         5.0       2000               0.005   \n",
       "356                4.998695         5.0       2000               0.005   \n",
       "357                4.995311         5.0       2000               0.005   \n",
       "358                4.990364         5.0       2000               0.005   \n",
       "359                4.977359         5.0       2000               0.005   \n",
       "\n",
       "    Algorithm  Problem_size    Runtime  \n",
       "0          SA            50   8.638677  \n",
       "1          SA            50   8.638677  \n",
       "2          SA            50   8.638677  \n",
       "3          SA            50   8.638677  \n",
       "4          SA            50   8.638677  \n",
       "..        ...           ...        ...  \n",
       "355        SA           400  15.660895  \n",
       "356        SA           400  15.660895  \n",
       "357        SA           400  15.660895  \n",
       "358        SA           400  15.660895  \n",
       "359        SA           400  15.660895  \n",
       "\n",
       "[360 rows x 16 columns]"
      ]
     },
     "execution_count": 10,
     "metadata": {},
     "output_type": "execute_result"
    }
   ],
   "source": [
    "sa_df"
   ]
  },
  {
   "cell_type": "code",
   "execution_count": 31,
   "id": "982e3338b39f3a22",
   "metadata": {
    "ExecuteTime": {
     "end_time": "2023-10-15T20:40:25.721931861Z",
     "start_time": "2023-10-15T20:40:25.549131429Z"
    },
    "collapsed": false,
    "jupyter": {
     "outputs_hidden": false
    }
   },
   "outputs": [
    {
     "data": {
      "image/png": "[encoded data removed]",
      "text/plain": [
       "<Figure size 640x480 with 1 Axes>"
      ]
     },
     "metadata": {},
     "output_type": "display_data"
    }
   ],
   "source": [
    "plot_df = sa_df[['Problem_size', 'Iteration', 'Fitness']].groupby(['Problem_size', 'Iteration']).mean().reset_index()\n",
    "for problem_size, color in zip(problem_size_list, ['r', 'g', 'b', 'orange']):\n",
    "    plt.plot(plot_df[plot_df['Problem_size']==problem_size]['Iteration'], plot_df[plot_df['Problem_size']==problem_size]['Fitness'], color, label=str(problem_size))\n",
    "\n",
    "plt.xlabel(\"Iterations\")\n",
    "plt.ylabel(\"Fitness score\")\n",
    "plt.title('SA various problem size fitness over iterations')\n",
    "plt.legend()\n",
    "plt.show()"
   ]
  },
  {
   "cell_type": "code",
   "execution_count": 32,
   "id": "a1442574b324e90d",
   "metadata": {
    "ExecuteTime": {
     "start_time": "2023-10-15T19:26:56.162342Z"
    },
    "collapsed": false,
    "jupyter": {
     "outputs_hidden": false
    }
   },
   "outputs": [
    {
     "data": {
      "image/png": "[encoded data removed]",
      "text/plain": [
       "<Figure size 640x480 with 1 Axes>"
      ]
     },
     "metadata": {},
     "output_type": "display_data"
    }
   ],
   "source": [
    "plot_df = sa_df[['schedule_type', 'Iteration', 'Fitness']].groupby(['schedule_type', 'Iteration']).mean().reset_index()\n",
    "for schedule_type, color in zip(sa_df['schedule_type'].unique(), ['r', 'g', 'b']):\n",
    "    plt.plot(plot_df[plot_df['schedule_type']==schedule_type]['Iteration'], plot_df[plot_df['schedule_type']==schedule_type]['Fitness'], color, label=str(schedule_type))\n",
    "\n",
    "plt.xlabel(\"Iterations\")\n",
    "plt.ylabel(\"Fitness score\")\n",
    "plt.title('SA various temperature decay methods fitness over iterations')\n",
    "plt.legend()\n",
    "plt.show()"
   ]
  },
  {
   "cell_type": "code",
   "execution_count": 33,
   "id": "1e629a56-b868-4988-83a5-c787ba54fdd6",
   "metadata": {
    "ExecuteTime": {
     "end_time": "2023-10-15T20:41:37.004558381Z",
     "start_time": "2023-10-15T20:41:36.834693958Z"
    }
   },
   "outputs": [
    {
     "data": {
      "image/png": "[encoded data removed]",
      "text/plain": [
       "<Figure size 640x480 with 1 Axes>"
      ]
     },
     "metadata": {},
     "output_type": "display_data"
    }
   ],
   "source": [
    "plot_df = sa_df[sa_df['schedule_type'] == 'exponential'][['schedule_init_temp', 'Iteration', 'Fitness']].groupby(['schedule_init_temp', 'Iteration']).mean().reset_index()\n",
    "for start_temp, color in zip(sa_temp_list, ['r', 'g', 'b', 'orange', 'purple', 'pink']):\n",
    "    plt.plot(plot_df[plot_df['schedule_init_temp']==start_temp]['Iteration'], plot_df[plot_df['schedule_init_temp']==start_temp]['Fitness'], color, label=str(start_temp))\n",
    "\n",
    "plt.xlabel(\"Iterations\")\n",
    "plt.ylabel(\"Fitness score\")\n",
    "plt.title('SA various initial temperature fitness over iterations')\n",
    "plt.legend()\n",
    "plt.show()"
   ]
  },
  {
   "cell_type": "code",
   "execution_count": null,
   "id": "49e2fcb409af74f",
   "metadata": {
    "ExecuteTime": {
     "end_time": "2023-10-15T20:41:37.948957132Z",
     "start_time": "2023-10-15T20:41:37.922438766Z"
    },
    "collapsed": false,
    "jupyter": {
     "outputs_hidden": false
    }
   },
   "outputs": [],
   "source": []
  },
  {
   "cell_type": "markdown",
   "id": "2271c4a0213660c7",
   "metadata": {
    "collapsed": false,
    "jupyter": {
     "outputs_hidden": false
    }
   },
   "source": [
    "## 3. Genetic Algorithm"
   ]
  },
  {
   "cell_type": "code",
   "execution_count": 14,
   "id": "96f52273bcd7c3f5",
   "metadata": {
    "ExecuteTime": {
     "end_time": "2023-10-15T21:18:32.552092068Z",
     "start_time": "2023-10-15T20:41:39.034897623Z"
    },
    "collapsed": false,
    "jupyter": {
     "outputs_hidden": false
    }
   },
   "outputs": [
    {
     "name": "stdout",
     "output_type": "stream",
     "text": [
      "problem_size: 50\n",
      "problem_size: 100\n",
      "problem_size: 200\n",
      "problem_size: 400\n"
     ]
    }
   ],
   "source": [
    "ga_df = None\n",
    "\n",
    "for problem_size in problem_size_list:\n",
    "    print(f\"problem_size: {problem_size}\")\n",
    "    \n",
    "    problem = mlrose_hiive.FlipFlopGenerator.generate(seed=random_seed, size=problem_size)\n",
    "    \n",
    "    start_time = time.time()\n",
    "    ga_runner = mlrose_hiive.GARunner(problem=problem,\n",
    "              experiment_name='ContinuousPeaks_GA',\n",
    "              output_directory=None, # note: specify an output directory to have results saved to disk\n",
    "              seed=random_seed,\n",
    "              iteration_list=iteration_list,\n",
    "              max_attempts=max_attempts,\n",
    "              population_sizes=ga_population_size_list,\n",
    "              mutation_rates=ga_mutation_prob_list,\n",
    "              generate_curves=True)\n",
    "    \n",
    "    ga_run_stats, ga_run_curves = ga_runner.run()\n",
    "    runtime = time.time() - start_time\n",
    "    \n",
    "    ga_run_stats['Algorithm'] = \"GA\"\n",
    "    ga_run_stats['Problem_size'] = problem_size\n",
    "    ga_run_stats['Runtime'] = runtime\n",
    "\n",
    "    if ga_df is None:\n",
    "        ga_df = ga_run_stats\n",
    "    else:\n",
    "        ga_df = pd.concat([ga_df, ga_run_stats], ignore_index=True)\n",
    "    \n",
    "ga_df.to_csv(os.path.join(result_dir, problem_name + \"_\" + \"GA\"+\".csv\")) "
   ]
  },
  {
   "cell_type": "code",
   "execution_count": 34,
   "id": "53a0c55dedfa0eb",
   "metadata": {
    "ExecuteTime": {
     "end_time": "2023-10-15T21:18:32.660366771Z",
     "start_time": "2023-10-15T21:18:32.558536721Z"
    },
    "collapsed": false,
    "jupyter": {
     "outputs_hidden": false
    }
   },
   "outputs": [
    {
     "data": {
      "image/png": "[encoded data removed]",
      "text/plain": [
       "<Figure size 640x480 with 1 Axes>"
      ]
     },
     "metadata": {},
     "output_type": "display_data"
    }
   ],
   "source": [
    "plot_df = ga_df[['Problem_size', 'Iteration', 'Fitness']].groupby(['Problem_size', 'Iteration']).mean().reset_index()\n",
    "for problem_size, color in zip(problem_size_list, ['r', 'g', 'b', 'orange']):\n",
    "    plt.plot(plot_df[plot_df['Problem_size']==problem_size]['Iteration'], plot_df[plot_df['Problem_size']==problem_size]['Fitness'], color, label=str(problem_size))\n",
    "\n",
    "plt.xlabel(\"Iterations\")\n",
    "plt.ylabel(\"Fitness score\")\n",
    "plt.title('GA various problem size fitness over iterations')\n",
    "plt.legend()\n",
    "plt.show()"
   ]
  },
  {
   "cell_type": "code",
   "execution_count": 40,
   "id": "fc7016bbe0f58c6f",
   "metadata": {
    "ExecuteTime": {
     "end_time": "2023-10-15T21:18:32.811306673Z",
     "start_time": "2023-10-15T21:18:32.677494646Z"
    },
    "collapsed": false,
    "jupyter": {
     "outputs_hidden": false
    }
   },
   "outputs": [
    {
     "data": {
      "image/png": "[encoded data removed]",
      "text/plain": [
       "<Figure size 640x480 with 1 Axes>"
      ]
     },
     "metadata": {},
     "output_type": "display_data"
    }
   ],
   "source": [
    "plot_df = ga_df[ga_df['Problem_size'] == 100][['Population Size', 'Iteration', 'Fitness']].groupby(['Population Size', 'Iteration']).mean().reset_index()\n",
    "for population_size, color in zip(ga_population_size_list, ['r', 'g', 'b', 'orange']):\n",
    "    plt.plot(plot_df[plot_df['Population Size']==population_size]['Iteration'], plot_df[plot_df['Population Size']==population_size]['Fitness'], color, label=str(population_size))\n",
    "\n",
    "plt.xlabel(\"Iterations\")\n",
    "plt.ylabel(\"Fitness score\")\n",
    "plt.title('GA various population size fitness over iterations')\n",
    "plt.legend()\n",
    "plt.show()"
   ]
  },
  {
   "cell_type": "code",
   "execution_count": null,
   "id": "58d9b20a441c08e1",
   "metadata": {
    "ExecuteTime": {
     "end_time": "2023-10-15T21:18:32.813213360Z",
     "start_time": "2023-10-15T21:18:32.776968113Z"
    },
    "collapsed": false,
    "jupyter": {
     "outputs_hidden": false
    }
   },
   "outputs": [],
   "source": []
  },
  {
   "cell_type": "code",
   "execution_count": 17,
   "id": "1ba664df9652ed20",
   "metadata": {
    "ExecuteTime": {
     "end_time": "2023-10-15T21:18:32.886187873Z",
     "start_time": "2023-10-15T21:18:32.779845666Z"
    },
    "collapsed": false,
    "jupyter": {
     "outputs_hidden": false
    }
   },
   "outputs": [],
   "source": [
    "## 4. MIMIC"
   ]
  },
  {
   "cell_type": "code",
   "execution_count": 18,
   "id": "6aa8e5d8f8e0fefd",
   "metadata": {
    "ExecuteTime": {
     "end_time": "2023-10-15T21:41:44.166558610Z",
     "start_time": "2023-10-15T21:18:32.821944458Z"
    },
    "collapsed": false,
    "jupyter": {
     "outputs_hidden": false
    }
   },
   "outputs": [
    {
     "name": "stdout",
     "output_type": "stream",
     "text": [
      "problem_size: 50\n",
      "problem_size: 100\n",
      "problem_size: 200\n",
      "problem_size: 400\n"
     ]
    }
   ],
   "source": [
    "mimic_df = None\n",
    "\n",
    "for problem_size in problem_size_list:\n",
    "    print(f\"problem_size: {problem_size}\")\n",
    "    \n",
    "    problem = mlrose_hiive.FlipFlopGenerator.generate(seed=random_seed, size=problem_size)\n",
    "    \n",
    "    start_time = time.time()\n",
    "    ga_runner = mlrose_hiive.MIMICRunner(problem=problem,\n",
    "              experiment_name='ContinuousPeaks_MIMIC',\n",
    "              output_directory=None, # note: specify an output directory to have results saved to disk\n",
    "              seed=random_seed,\n",
    "              iteration_list=iteration_list,\n",
    "              max_attempts=max_attempts,\n",
    "              population_sizes=mimic_population_size_list,\n",
    "              keep_percent_list=mimic_keep_pct_list,\n",
    "              use_fast_mimic=True,\n",
    "              generate_curves=True)\n",
    "    \n",
    "    mimic_run_stats, mimic_run_curves = ga_runner.run()\n",
    "    runtime = time.time() - start_time\n",
    "    \n",
    "    mimic_run_stats['Algorithm'] = \"MIMIC\"\n",
    "    mimic_run_stats['Problem_size'] = problem_size\n",
    "    mimic_run_stats['Runtime'] = runtime\n",
    "\n",
    "    if mimic_df is None:\n",
    "        mimic_df = mimic_run_stats\n",
    "    else:\n",
    "        mimic_df = pd.concat([mimic_df, mimic_run_stats], ignore_index=True)\n",
    "    \n",
    "mimic_df.to_csv(os.path.join(result_dir, problem_name + \"_\" + \"MIMIC\"+\".csv\")) "
   ]
  },
  {
   "cell_type": "code",
   "execution_count": 36,
   "id": "79c261a5143fded0",
   "metadata": {
    "ExecuteTime": {
     "end_time": "2023-10-15T21:41:44.285318005Z",
     "start_time": "2023-10-15T21:41:44.172112991Z"
    },
    "collapsed": false,
    "jupyter": {
     "outputs_hidden": false
    }
   },
   "outputs": [
    {
     "data": {
      "image/png": "[encoded data removed]",
      "text/plain": [
       "<Figure size 640x480 with 1 Axes>"
      ]
     },
     "metadata": {},
     "output_type": "display_data"
    }
   ],
   "source": [
    "plot_df = mimic_df[['Problem_size', 'Iteration', 'Fitness']].groupby(['Problem_size', 'Iteration']).mean().reset_index()\n",
    "for problem_size, color in zip(problem_size_list, ['r', 'g', 'b', 'orange']):\n",
    "    plt.plot(plot_df[plot_df['Problem_size']==problem_size]['Iteration'], plot_df[plot_df['Problem_size']==problem_size]['Fitness'], color, label=str(problem_size))\n",
    "\n",
    "plt.xlabel(\"Iterations\")\n",
    "plt.ylabel(\"Fitness score\")\n",
    "plt.title('MIMIC various problem size fitness over iterations')\n",
    "plt.legend()\n",
    "plt.show()"
   ]
  },
  {
   "cell_type": "code",
   "execution_count": 37,
   "id": "6a31339d3bf48633",
   "metadata": {
    "ExecuteTime": {
     "end_time": "2023-10-15T21:41:44.398213804Z",
     "start_time": "2023-10-15T21:41:44.291888498Z"
    },
    "collapsed": false,
    "jupyter": {
     "outputs_hidden": false
    }
   },
   "outputs": [
    {
     "data": {
      "image/png": "[encoded data removed]",
      "text/plain": [
       "<Figure size 640x480 with 1 Axes>"
      ]
     },
     "metadata": {},
     "output_type": "display_data"
    }
   ],
   "source": [
    "plot_df = ga_df[ga_df['Problem_size'] == 100][['Population Size', 'Iteration', 'Fitness']].groupby(['Population Size', 'Iteration']).mean().reset_index()\n",
    "for population_size, color in zip(mimic_population_size_list, ['r', 'g', 'b', 'orange']):\n",
    "    plt.plot(plot_df[plot_df['Population Size']==population_size]['Iteration'], plot_df[plot_df['Population Size']==population_size]['Fitness'], color, label=str(population_size))\n",
    "\n",
    "plt.xlabel(\"Iterations\")\n",
    "plt.ylabel(\"Fitness score\")\n",
    "plt.title('MIMIC various population size fitness over iterations')\n",
    "plt.legend()\n",
    "plt.show()"
   ]
  },
  {
   "cell_type": "code",
   "execution_count": 21,
   "id": "22f5432d239d3a9f",
   "metadata": {
    "ExecuteTime": {
     "end_time": "2023-10-15T21:41:44.410275245Z",
     "start_time": "2023-10-15T21:41:44.403184115Z"
    },
    "collapsed": false,
    "jupyter": {
     "outputs_hidden": false
    }
   },
   "outputs": [
    {
     "data": {
      "text/html": [
       "<div>\n",
       "<style scoped>\n",
       "    .dataframe tbody tr th:only-of-type {\n",
       "        vertical-align: middle;\n",
       "    }\n",
       "\n",
       "    .dataframe tbody tr th {\n",
       "        vertical-align: top;\n",
       "    }\n",
       "\n",
       "    .dataframe thead th {\n",
       "        text-align: right;\n",
       "    }\n",
       "</style>\n",
       "<table border=\"1\" class=\"dataframe\">\n",
       "  <thead>\n",
       "    <tr style=\"text-align: right;\">\n",
       "      <th></th>\n",
       "      <th>Iteration</th>\n",
       "      <th>Fitness</th>\n",
       "      <th>FEvals</th>\n",
       "      <th>Time</th>\n",
       "      <th>State</th>\n",
       "      <th>use_fast_mimic</th>\n",
       "      <th>Population Size</th>\n",
       "      <th>Keep Percent</th>\n",
       "      <th>max_iters</th>\n",
       "      <th>Algorithm</th>\n",
       "      <th>Problem_size</th>\n",
       "      <th>Runtime</th>\n",
       "    </tr>\n",
       "  </thead>\n",
       "  <tbody>\n",
       "    <tr>\n",
       "      <th>0</th>\n",
       "      <td>0</td>\n",
       "      <td>19.0</td>\n",
       "      <td>0</td>\n",
       "      <td>0.000127</td>\n",
       "      <td>[0, 0, 1, 1, 1, 1, 0, 0, 0, 0, 0, 1, 0, 0, 0, ...</td>\n",
       "      <td>True</td>\n",
       "      <td>10</td>\n",
       "      <td>0.1</td>\n",
       "      <td>2000</td>\n",
       "      <td>MIMIC</td>\n",
       "      <td>50</td>\n",
       "      <td>19.169220</td>\n",
       "    </tr>\n",
       "    <tr>\n",
       "      <th>1</th>\n",
       "      <td>100</td>\n",
       "      <td>28.0</td>\n",
       "      <td>101</td>\n",
       "      <td>0.562994</td>\n",
       "      <td>[1.0, 1.0, 0.0, 0.0, 1.0, 1.0, 0.0, 0.0, 0.0, ...</td>\n",
       "      <td>True</td>\n",
       "      <td>10</td>\n",
       "      <td>0.1</td>\n",
       "      <td>2000</td>\n",
       "      <td>MIMIC</td>\n",
       "      <td>50</td>\n",
       "      <td>19.169220</td>\n",
       "    </tr>\n",
       "    <tr>\n",
       "      <th>2</th>\n",
       "      <td>500</td>\n",
       "      <td>28.0</td>\n",
       "      <td>102</td>\n",
       "      <td>0.569695</td>\n",
       "      <td>[1.0, 1.0, 0.0, 0.0, 1.0, 1.0, 0.0, 0.0, 0.0, ...</td>\n",
       "      <td>True</td>\n",
       "      <td>10</td>\n",
       "      <td>0.1</td>\n",
       "      <td>2000</td>\n",
       "      <td>MIMIC</td>\n",
       "      <td>50</td>\n",
       "      <td>19.169220</td>\n",
       "    </tr>\n",
       "    <tr>\n",
       "      <th>3</th>\n",
       "      <td>1000</td>\n",
       "      <td>28.0</td>\n",
       "      <td>102</td>\n",
       "      <td>0.569695</td>\n",
       "      <td>[1.0, 1.0, 0.0, 0.0, 1.0, 1.0, 0.0, 0.0, 0.0, ...</td>\n",
       "      <td>True</td>\n",
       "      <td>10</td>\n",
       "      <td>0.1</td>\n",
       "      <td>2000</td>\n",
       "      <td>MIMIC</td>\n",
       "      <td>50</td>\n",
       "      <td>19.169220</td>\n",
       "    </tr>\n",
       "    <tr>\n",
       "      <th>4</th>\n",
       "      <td>2000</td>\n",
       "      <td>28.0</td>\n",
       "      <td>102</td>\n",
       "      <td>0.569695</td>\n",
       "      <td>[1.0, 1.0, 0.0, 0.0, 1.0, 1.0, 0.0, 0.0, 0.0, ...</td>\n",
       "      <td>True</td>\n",
       "      <td>10</td>\n",
       "      <td>0.1</td>\n",
       "      <td>2000</td>\n",
       "      <td>MIMIC</td>\n",
       "      <td>50</td>\n",
       "      <td>19.169220</td>\n",
       "    </tr>\n",
       "    <tr>\n",
       "      <th>...</th>\n",
       "      <td>...</td>\n",
       "      <td>...</td>\n",
       "      <td>...</td>\n",
       "      <td>...</td>\n",
       "      <td>...</td>\n",
       "      <td>...</td>\n",
       "      <td>...</td>\n",
       "      <td>...</td>\n",
       "      <td>...</td>\n",
       "      <td>...</td>\n",
       "      <td>...</td>\n",
       "      <td>...</td>\n",
       "    </tr>\n",
       "    <tr>\n",
       "      <th>495</th>\n",
       "      <td>0</td>\n",
       "      <td>211.0</td>\n",
       "      <td>0</td>\n",
       "      <td>0.002531</td>\n",
       "      <td>[0, 0, 1, 1, 1, 1, 0, 0, 0, 0, 0, 1, 0, 0, 0, ...</td>\n",
       "      <td>True</td>\n",
       "      <td>400</td>\n",
       "      <td>0.5</td>\n",
       "      <td>2000</td>\n",
       "      <td>MIMIC</td>\n",
       "      <td>400</td>\n",
       "      <td>908.984434</td>\n",
       "    </tr>\n",
       "    <tr>\n",
       "      <th>496</th>\n",
       "      <td>100</td>\n",
       "      <td>351.0</td>\n",
       "      <td>137</td>\n",
       "      <td>54.298644</td>\n",
       "      <td>[0.0, 1.0, 0.0, 1.0, 0.0, 1.0, 0.0, 1.0, 0.0, ...</td>\n",
       "      <td>True</td>\n",
       "      <td>400</td>\n",
       "      <td>0.5</td>\n",
       "      <td>2000</td>\n",
       "      <td>MIMIC</td>\n",
       "      <td>400</td>\n",
       "      <td>908.984434</td>\n",
       "    </tr>\n",
       "    <tr>\n",
       "      <th>497</th>\n",
       "      <td>500</td>\n",
       "      <td>351.0</td>\n",
       "      <td>199</td>\n",
       "      <td>101.091799</td>\n",
       "      <td>[0.0, 1.0, 0.0, 1.0, 0.0, 1.0, 0.0, 1.0, 0.0, ...</td>\n",
       "      <td>True</td>\n",
       "      <td>400</td>\n",
       "      <td>0.5</td>\n",
       "      <td>2000</td>\n",
       "      <td>MIMIC</td>\n",
       "      <td>400</td>\n",
       "      <td>908.984434</td>\n",
       "    </tr>\n",
       "    <tr>\n",
       "      <th>498</th>\n",
       "      <td>1000</td>\n",
       "      <td>351.0</td>\n",
       "      <td>199</td>\n",
       "      <td>101.091799</td>\n",
       "      <td>[0.0, 1.0, 0.0, 1.0, 0.0, 1.0, 0.0, 1.0, 0.0, ...</td>\n",
       "      <td>True</td>\n",
       "      <td>400</td>\n",
       "      <td>0.5</td>\n",
       "      <td>2000</td>\n",
       "      <td>MIMIC</td>\n",
       "      <td>400</td>\n",
       "      <td>908.984434</td>\n",
       "    </tr>\n",
       "    <tr>\n",
       "      <th>499</th>\n",
       "      <td>2000</td>\n",
       "      <td>351.0</td>\n",
       "      <td>199</td>\n",
       "      <td>101.091799</td>\n",
       "      <td>[0.0, 1.0, 0.0, 1.0, 0.0, 1.0, 0.0, 1.0, 0.0, ...</td>\n",
       "      <td>True</td>\n",
       "      <td>400</td>\n",
       "      <td>0.5</td>\n",
       "      <td>2000</td>\n",
       "      <td>MIMIC</td>\n",
       "      <td>400</td>\n",
       "      <td>908.984434</td>\n",
       "    </tr>\n",
       "  </tbody>\n",
       "</table>\n",
       "<p>500 rows × 12 columns</p>\n",
       "</div>"
      ],
      "text/plain": [
       "     Iteration  Fitness  FEvals        Time  \\\n",
       "0            0     19.0       0    0.000127   \n",
       "1          100     28.0     101    0.562994   \n",
       "2          500     28.0     102    0.569695   \n",
       "3         1000     28.0     102    0.569695   \n",
       "4         2000     28.0     102    0.569695   \n",
       "..         ...      ...     ...         ...   \n",
       "495          0    211.0       0    0.002531   \n",
       "496        100    351.0     137   54.298644   \n",
       "497        500    351.0     199  101.091799   \n",
       "498       1000    351.0     199  101.091799   \n",
       "499       2000    351.0     199  101.091799   \n",
       "\n",
       "                                                 State  use_fast_mimic  \\\n",
       "0    [0, 0, 1, 1, 1, 1, 0, 0, 0, 0, 0, 1, 0, 0, 0, ...            True   \n",
       "1    [1.0, 1.0, 0.0, 0.0, 1.0, 1.0, 0.0, 0.0, 0.0, ...            True   \n",
       "2    [1.0, 1.0, 0.0, 0.0, 1.0, 1.0, 0.0, 0.0, 0.0, ...            True   \n",
       "3    [1.0, 1.0, 0.0, 0.0, 1.0, 1.0, 0.0, 0.0, 0.0, ...            True   \n",
       "4    [1.0, 1.0, 0.0, 0.0, 1.0, 1.0, 0.0, 0.0, 0.0, ...            True   \n",
       "..                                                 ...             ...   \n",
       "495  [0, 0, 1, 1, 1, 1, 0, 0, 0, 0, 0, 1, 0, 0, 0, ...            True   \n",
       "496  [0.0, 1.0, 0.0, 1.0, 0.0, 1.0, 0.0, 1.0, 0.0, ...            True   \n",
       "497  [0.0, 1.0, 0.0, 1.0, 0.0, 1.0, 0.0, 1.0, 0.0, ...            True   \n",
       "498  [0.0, 1.0, 0.0, 1.0, 0.0, 1.0, 0.0, 1.0, 0.0, ...            True   \n",
       "499  [0.0, 1.0, 0.0, 1.0, 0.0, 1.0, 0.0, 1.0, 0.0, ...            True   \n",
       "\n",
       "     Population Size  Keep Percent  max_iters Algorithm  Problem_size  \\\n",
       "0                 10           0.1       2000     MIMIC            50   \n",
       "1                 10           0.1       2000     MIMIC            50   \n",
       "2                 10           0.1       2000     MIMIC            50   \n",
       "3                 10           0.1       2000     MIMIC            50   \n",
       "4                 10           0.1       2000     MIMIC            50   \n",
       "..               ...           ...        ...       ...           ...   \n",
       "495              400           0.5       2000     MIMIC           400   \n",
       "496              400           0.5       2000     MIMIC           400   \n",
       "497              400           0.5       2000     MIMIC           400   \n",
       "498              400           0.5       2000     MIMIC           400   \n",
       "499              400           0.5       2000     MIMIC           400   \n",
       "\n",
       "        Runtime  \n",
       "0     19.169220  \n",
       "1     19.169220  \n",
       "2     19.169220  \n",
       "3     19.169220  \n",
       "4     19.169220  \n",
       "..          ...  \n",
       "495  908.984434  \n",
       "496  908.984434  \n",
       "497  908.984434  \n",
       "498  908.984434  \n",
       "499  908.984434  \n",
       "\n",
       "[500 rows x 12 columns]"
      ]
     },
     "execution_count": 21,
     "metadata": {},
     "output_type": "execute_result"
    }
   ],
   "source": [
    "mimic_df"
   ]
  },
  {
   "cell_type": "code",
   "execution_count": null,
   "id": "8ffb3cf8562b8311",
   "metadata": {
    "ExecuteTime": {
     "end_time": "2023-10-15T21:41:44.472774912Z",
     "start_time": "2023-10-15T21:41:44.410120403Z"
    },
    "collapsed": false,
    "jupyter": {
     "outputs_hidden": false
    }
   },
   "outputs": [],
   "source": []
  },
  {
   "cell_type": "markdown",
   "id": "6ad8ee9455cf86b4",
   "metadata": {
    "collapsed": false,
    "jupyter": {
     "outputs_hidden": false
    }
   },
   "source": [
    "## 5. Algorithm comparison"
   ]
  },
  {
   "cell_type": "code",
   "execution_count": 22,
   "id": "d6528e344dcaa43",
   "metadata": {
    "ExecuteTime": {
     "end_time": "2023-10-15T21:41:44.474407279Z",
     "start_time": "2023-10-15T21:41:44.458031456Z"
    },
    "collapsed": false,
    "jupyter": {
     "outputs_hidden": false
    }
   },
   "outputs": [
    {
     "data": {
      "text/html": [
       "<div>\n",
       "<style scoped>\n",
       "    .dataframe tbody tr th:only-of-type {\n",
       "        vertical-align: middle;\n",
       "    }\n",
       "\n",
       "    .dataframe tbody tr th {\n",
       "        vertical-align: top;\n",
       "    }\n",
       "\n",
       "    .dataframe thead th {\n",
       "        text-align: right;\n",
       "    }\n",
       "</style>\n",
       "<table border=\"1\" class=\"dataframe\">\n",
       "  <thead>\n",
       "    <tr style=\"text-align: right;\">\n",
       "      <th></th>\n",
       "      <th>Iteration</th>\n",
       "      <th>Fitness</th>\n",
       "      <th>FEvals</th>\n",
       "      <th>Time</th>\n",
       "      <th>State</th>\n",
       "      <th>schedule_type</th>\n",
       "      <th>schedule_init_temp</th>\n",
       "      <th>schedule_decay</th>\n",
       "      <th>schedule_min_temp</th>\n",
       "      <th>schedule_current_value</th>\n",
       "      <th>Temperature</th>\n",
       "      <th>max_iters</th>\n",
       "      <th>schedule_exp_const</th>\n",
       "      <th>Algorithm</th>\n",
       "      <th>Problem_size</th>\n",
       "      <th>Runtime</th>\n",
       "    </tr>\n",
       "  </thead>\n",
       "  <tbody>\n",
       "    <tr>\n",
       "      <th>0</th>\n",
       "      <td>0</td>\n",
       "      <td>19.0</td>\n",
       "      <td>0</td>\n",
       "      <td>0.000073</td>\n",
       "      <td>[0, 0, 1, 1, 1, 1, 0, 0, 0, 0, 0, 1, 0, 0, 0, ...</td>\n",
       "      <td>geometric</td>\n",
       "      <td>0.1</td>\n",
       "      <td>0.99</td>\n",
       "      <td>0.001</td>\n",
       "      <td>0.100000</td>\n",
       "      <td>0.1</td>\n",
       "      <td>2000</td>\n",
       "      <td>NaN</td>\n",
       "      <td>SA</td>\n",
       "      <td>50</td>\n",
       "      <td>8.638677</td>\n",
       "    </tr>\n",
       "    <tr>\n",
       "      <th>1</th>\n",
       "      <td>100</td>\n",
       "      <td>38.0</td>\n",
       "      <td>142</td>\n",
       "      <td>0.006477</td>\n",
       "      <td>[1, 0, 1, 1, 0, 1, 0, 1, 0, 0, 1, 0, 0, 1, 0, ...</td>\n",
       "      <td>geometric</td>\n",
       "      <td>0.1</td>\n",
       "      <td>0.99</td>\n",
       "      <td>0.001</td>\n",
       "      <td>0.099993</td>\n",
       "      <td>0.1</td>\n",
       "      <td>2000</td>\n",
       "      <td>NaN</td>\n",
       "      <td>SA</td>\n",
       "      <td>50</td>\n",
       "      <td>8.638677</td>\n",
       "    </tr>\n",
       "    <tr>\n",
       "      <th>2</th>\n",
       "      <td>500</td>\n",
       "      <td>44.0</td>\n",
       "      <td>669</td>\n",
       "      <td>0.049959</td>\n",
       "      <td>[0, 1, 0, 1, 0, 1, 0, 1, 0, 1, 0, 1, 0, 1, 0, ...</td>\n",
       "      <td>geometric</td>\n",
       "      <td>0.1</td>\n",
       "      <td>0.99</td>\n",
       "      <td>0.001</td>\n",
       "      <td>0.099950</td>\n",
       "      <td>0.1</td>\n",
       "      <td>2000</td>\n",
       "      <td>NaN</td>\n",
       "      <td>SA</td>\n",
       "      <td>50</td>\n",
       "      <td>8.638677</td>\n",
       "    </tr>\n",
       "    <tr>\n",
       "      <th>3</th>\n",
       "      <td>1000</td>\n",
       "      <td>46.0</td>\n",
       "      <td>1235</td>\n",
       "      <td>0.153519</td>\n",
       "      <td>[0, 1, 0, 1, 0, 1, 0, 1, 0, 1, 0, 1, 0, 1, 0, ...</td>\n",
       "      <td>geometric</td>\n",
       "      <td>0.1</td>\n",
       "      <td>0.99</td>\n",
       "      <td>0.001</td>\n",
       "      <td>0.099846</td>\n",
       "      <td>0.1</td>\n",
       "      <td>2000</td>\n",
       "      <td>NaN</td>\n",
       "      <td>SA</td>\n",
       "      <td>50</td>\n",
       "      <td>8.638677</td>\n",
       "    </tr>\n",
       "    <tr>\n",
       "      <th>4</th>\n",
       "      <td>2000</td>\n",
       "      <td>48.0</td>\n",
       "      <td>1736</td>\n",
       "      <td>0.301666</td>\n",
       "      <td>[0, 1, 0, 1, 0, 1, 0, 1, 0, 1, 0, 1, 0, 1, 0, ...</td>\n",
       "      <td>geometric</td>\n",
       "      <td>0.1</td>\n",
       "      <td>0.99</td>\n",
       "      <td>0.001</td>\n",
       "      <td>0.099697</td>\n",
       "      <td>0.1</td>\n",
       "      <td>2000</td>\n",
       "      <td>NaN</td>\n",
       "      <td>SA</td>\n",
       "      <td>50</td>\n",
       "      <td>8.638677</td>\n",
       "    </tr>\n",
       "    <tr>\n",
       "      <th>...</th>\n",
       "      <td>...</td>\n",
       "      <td>...</td>\n",
       "      <td>...</td>\n",
       "      <td>...</td>\n",
       "      <td>...</td>\n",
       "      <td>...</td>\n",
       "      <td>...</td>\n",
       "      <td>...</td>\n",
       "      <td>...</td>\n",
       "      <td>...</td>\n",
       "      <td>...</td>\n",
       "      <td>...</td>\n",
       "      <td>...</td>\n",
       "      <td>...</td>\n",
       "      <td>...</td>\n",
       "      <td>...</td>\n",
       "    </tr>\n",
       "    <tr>\n",
       "      <th>355</th>\n",
       "      <td>0</td>\n",
       "      <td>211.0</td>\n",
       "      <td>0</td>\n",
       "      <td>0.000295</td>\n",
       "      <td>[0, 0, 1, 1, 1, 1, 0, 0, 0, 0, 0, 1, 0, 0, 0, ...</td>\n",
       "      <td>exponential</td>\n",
       "      <td>5.0</td>\n",
       "      <td>NaN</td>\n",
       "      <td>0.001</td>\n",
       "      <td>4.999993</td>\n",
       "      <td>5.0</td>\n",
       "      <td>2000</td>\n",
       "      <td>0.005</td>\n",
       "      <td>SA</td>\n",
       "      <td>400</td>\n",
       "      <td>15.660895</td>\n",
       "    </tr>\n",
       "    <tr>\n",
       "      <th>356</th>\n",
       "      <td>100</td>\n",
       "      <td>211.0</td>\n",
       "      <td>187</td>\n",
       "      <td>0.052205</td>\n",
       "      <td>[0, 0, 1, 1, 1, 1, 1, 0, 1, 0, 1, 0, 0, 0, 0, ...</td>\n",
       "      <td>exponential</td>\n",
       "      <td>5.0</td>\n",
       "      <td>NaN</td>\n",
       "      <td>0.001</td>\n",
       "      <td>4.998695</td>\n",
       "      <td>5.0</td>\n",
       "      <td>2000</td>\n",
       "      <td>0.005</td>\n",
       "      <td>SA</td>\n",
       "      <td>400</td>\n",
       "      <td>15.660895</td>\n",
       "    </tr>\n",
       "    <tr>\n",
       "      <th>357</th>\n",
       "      <td>500</td>\n",
       "      <td>278.0</td>\n",
       "      <td>872</td>\n",
       "      <td>0.187631</td>\n",
       "      <td>[1, 0, 1, 1, 0, 1, 0, 1, 1, 0, 1, 1, 0, 1, 0, ...</td>\n",
       "      <td>exponential</td>\n",
       "      <td>5.0</td>\n",
       "      <td>NaN</td>\n",
       "      <td>0.001</td>\n",
       "      <td>4.995311</td>\n",
       "      <td>5.0</td>\n",
       "      <td>2000</td>\n",
       "      <td>0.005</td>\n",
       "      <td>SA</td>\n",
       "      <td>400</td>\n",
       "      <td>15.660895</td>\n",
       "    </tr>\n",
       "    <tr>\n",
       "      <th>358</th>\n",
       "      <td>1000</td>\n",
       "      <td>323.0</td>\n",
       "      <td>1581</td>\n",
       "      <td>0.385810</td>\n",
       "      <td>[0, 1, 0, 1, 0, 1, 0, 1, 0, 1, 0, 1, 0, 1, 1, ...</td>\n",
       "      <td>exponential</td>\n",
       "      <td>5.0</td>\n",
       "      <td>NaN</td>\n",
       "      <td>0.001</td>\n",
       "      <td>4.990364</td>\n",
       "      <td>5.0</td>\n",
       "      <td>2000</td>\n",
       "      <td>0.005</td>\n",
       "      <td>SA</td>\n",
       "      <td>400</td>\n",
       "      <td>15.660895</td>\n",
       "    </tr>\n",
       "    <tr>\n",
       "      <th>359</th>\n",
       "      <td>2000</td>\n",
       "      <td>353.0</td>\n",
       "      <td>2865</td>\n",
       "      <td>0.907702</td>\n",
       "      <td>[0, 1, 0, 1, 0, 1, 0, 1, 0, 1, 0, 1, 0, 1, 0, ...</td>\n",
       "      <td>exponential</td>\n",
       "      <td>5.0</td>\n",
       "      <td>NaN</td>\n",
       "      <td>0.001</td>\n",
       "      <td>4.977359</td>\n",
       "      <td>5.0</td>\n",
       "      <td>2000</td>\n",
       "      <td>0.005</td>\n",
       "      <td>SA</td>\n",
       "      <td>400</td>\n",
       "      <td>15.660895</td>\n",
       "    </tr>\n",
       "  </tbody>\n",
       "</table>\n",
       "<p>360 rows × 16 columns</p>\n",
       "</div>"
      ],
      "text/plain": [
       "     Iteration  Fitness  FEvals      Time  \\\n",
       "0            0     19.0       0  0.000073   \n",
       "1          100     38.0     142  0.006477   \n",
       "2          500     44.0     669  0.049959   \n",
       "3         1000     46.0    1235  0.153519   \n",
       "4         2000     48.0    1736  0.301666   \n",
       "..         ...      ...     ...       ...   \n",
       "355          0    211.0       0  0.000295   \n",
       "356        100    211.0     187  0.052205   \n",
       "357        500    278.0     872  0.187631   \n",
       "358       1000    323.0    1581  0.385810   \n",
       "359       2000    353.0    2865  0.907702   \n",
       "\n",
       "                                                 State schedule_type  \\\n",
       "0    [0, 0, 1, 1, 1, 1, 0, 0, 0, 0, 0, 1, 0, 0, 0, ...     geometric   \n",
       "1    [1, 0, 1, 1, 0, 1, 0, 1, 0, 0, 1, 0, 0, 1, 0, ...     geometric   \n",
       "2    [0, 1, 0, 1, 0, 1, 0, 1, 0, 1, 0, 1, 0, 1, 0, ...     geometric   \n",
       "3    [0, 1, 0, 1, 0, 1, 0, 1, 0, 1, 0, 1, 0, 1, 0, ...     geometric   \n",
       "4    [0, 1, 0, 1, 0, 1, 0, 1, 0, 1, 0, 1, 0, 1, 0, ...     geometric   \n",
       "..                                                 ...           ...   \n",
       "355  [0, 0, 1, 1, 1, 1, 0, 0, 0, 0, 0, 1, 0, 0, 0, ...   exponential   \n",
       "356  [0, 0, 1, 1, 1, 1, 1, 0, 1, 0, 1, 0, 0, 0, 0, ...   exponential   \n",
       "357  [1, 0, 1, 1, 0, 1, 0, 1, 1, 0, 1, 1, 0, 1, 0, ...   exponential   \n",
       "358  [0, 1, 0, 1, 0, 1, 0, 1, 0, 1, 0, 1, 0, 1, 1, ...   exponential   \n",
       "359  [0, 1, 0, 1, 0, 1, 0, 1, 0, 1, 0, 1, 0, 1, 0, ...   exponential   \n",
       "\n",
       "     schedule_init_temp  schedule_decay  schedule_min_temp  \\\n",
       "0                   0.1            0.99              0.001   \n",
       "1                   0.1            0.99              0.001   \n",
       "2                   0.1            0.99              0.001   \n",
       "3                   0.1            0.99              0.001   \n",
       "4                   0.1            0.99              0.001   \n",
       "..                  ...             ...                ...   \n",
       "355                 5.0             NaN              0.001   \n",
       "356                 5.0             NaN              0.001   \n",
       "357                 5.0             NaN              0.001   \n",
       "358                 5.0             NaN              0.001   \n",
       "359                 5.0             NaN              0.001   \n",
       "\n",
       "     schedule_current_value Temperature  max_iters  schedule_exp_const  \\\n",
       "0                  0.100000         0.1       2000                 NaN   \n",
       "1                  0.099993         0.1       2000                 NaN   \n",
       "2                  0.099950         0.1       2000                 NaN   \n",
       "3                  0.099846         0.1       2000                 NaN   \n",
       "4                  0.099697         0.1       2000                 NaN   \n",
       "..                      ...         ...        ...                 ...   \n",
       "355                4.999993         5.0       2000               0.005   \n",
       "356                4.998695         5.0       2000               0.005   \n",
       "357                4.995311         5.0       2000               0.005   \n",
       "358                4.990364         5.0       2000               0.005   \n",
       "359                4.977359         5.0       2000               0.005   \n",
       "\n",
       "    Algorithm  Problem_size    Runtime  \n",
       "0          SA            50   8.638677  \n",
       "1          SA            50   8.638677  \n",
       "2          SA            50   8.638677  \n",
       "3          SA            50   8.638677  \n",
       "4          SA            50   8.638677  \n",
       "..        ...           ...        ...  \n",
       "355        SA           400  15.660895  \n",
       "356        SA           400  15.660895  \n",
       "357        SA           400  15.660895  \n",
       "358        SA           400  15.660895  \n",
       "359        SA           400  15.660895  \n",
       "\n",
       "[360 rows x 16 columns]"
      ]
     },
     "execution_count": 22,
     "metadata": {},
     "output_type": "execute_result"
    }
   ],
   "source": [
    "sa_df"
   ]
  },
  {
   "cell_type": "code",
   "execution_count": 23,
   "id": "21978b0f8cd58065",
   "metadata": {
    "ExecuteTime": {
     "end_time": "2023-10-15T21:41:44.474687025Z",
     "start_time": "2023-10-15T21:41:44.458329768Z"
    },
    "collapsed": false,
    "jupyter": {
     "outputs_hidden": false
    }
   },
   "outputs": [
    {
     "data": {
      "text/plain": [
       "Index(['Iteration', 'Fitness', 'FEvals', 'Time', 'State', 'use_fast_mimic',\n",
       "       'Population Size', 'Keep Percent', 'max_iters', 'Algorithm',\n",
       "       'Problem_size', 'Runtime'],\n",
       "      dtype='object')"
      ]
     },
     "execution_count": 23,
     "metadata": {},
     "output_type": "execute_result"
    }
   ],
   "source": [
    "mimic_df.columns"
   ]
  },
  {
   "cell_type": "code",
   "execution_count": null,
   "id": "67d347849cd479f0",
   "metadata": {
    "ExecuteTime": {
     "end_time": "2023-10-15T21:41:44.474808562Z",
     "start_time": "2023-10-15T21:41:44.458663720Z"
    },
    "collapsed": false,
    "jupyter": {
     "outputs_hidden": false
    }
   },
   "outputs": [],
   "source": []
  },
  {
   "cell_type": "code",
   "execution_count": 24,
   "id": "b7575b2ef18cdf70",
   "metadata": {
    "ExecuteTime": {
     "end_time": "2023-10-15T21:41:44.636287336Z",
     "start_time": "2023-10-15T21:41:44.458860443Z"
    },
    "collapsed": false,
    "jupyter": {
     "outputs_hidden": false
    }
   },
   "outputs": [
    {
     "data": {
      "text/html": [
       "<div>\n",
       "<style scoped>\n",
       "    .dataframe tbody tr th:only-of-type {\n",
       "        vertical-align: middle;\n",
       "    }\n",
       "\n",
       "    .dataframe tbody tr th {\n",
       "        vertical-align: top;\n",
       "    }\n",
       "\n",
       "    .dataframe thead th {\n",
       "        text-align: right;\n",
       "    }\n",
       "</style>\n",
       "<table border=\"1\" class=\"dataframe\">\n",
       "  <thead>\n",
       "    <tr style=\"text-align: right;\">\n",
       "      <th></th>\n",
       "      <th>Iteration</th>\n",
       "      <th>Fitness</th>\n",
       "      <th>FEvals</th>\n",
       "      <th>Time</th>\n",
       "      <th>State</th>\n",
       "      <th>use_fast_mimic</th>\n",
       "      <th>Population Size</th>\n",
       "      <th>Keep Percent</th>\n",
       "      <th>max_iters</th>\n",
       "      <th>Algorithm</th>\n",
       "      <th>Problem_size</th>\n",
       "      <th>Runtime</th>\n",
       "    </tr>\n",
       "  </thead>\n",
       "  <tbody>\n",
       "    <tr>\n",
       "      <th>0</th>\n",
       "      <td>0</td>\n",
       "      <td>19.0</td>\n",
       "      <td>0</td>\n",
       "      <td>0.000127</td>\n",
       "      <td>[0, 0, 1, 1, 1, 1, 0, 0, 0, 0, 0, 1, 0, 0, 0, ...</td>\n",
       "      <td>True</td>\n",
       "      <td>10</td>\n",
       "      <td>0.1</td>\n",
       "      <td>2000</td>\n",
       "      <td>MIMIC</td>\n",
       "      <td>50</td>\n",
       "      <td>19.169220</td>\n",
       "    </tr>\n",
       "    <tr>\n",
       "      <th>1</th>\n",
       "      <td>100</td>\n",
       "      <td>28.0</td>\n",
       "      <td>101</td>\n",
       "      <td>0.562994</td>\n",
       "      <td>[1.0, 1.0, 0.0, 0.0, 1.0, 1.0, 0.0, 0.0, 0.0, ...</td>\n",
       "      <td>True</td>\n",
       "      <td>10</td>\n",
       "      <td>0.1</td>\n",
       "      <td>2000</td>\n",
       "      <td>MIMIC</td>\n",
       "      <td>50</td>\n",
       "      <td>19.169220</td>\n",
       "    </tr>\n",
       "    <tr>\n",
       "      <th>2</th>\n",
       "      <td>500</td>\n",
       "      <td>28.0</td>\n",
       "      <td>102</td>\n",
       "      <td>0.569695</td>\n",
       "      <td>[1.0, 1.0, 0.0, 0.0, 1.0, 1.0, 0.0, 0.0, 0.0, ...</td>\n",
       "      <td>True</td>\n",
       "      <td>10</td>\n",
       "      <td>0.1</td>\n",
       "      <td>2000</td>\n",
       "      <td>MIMIC</td>\n",
       "      <td>50</td>\n",
       "      <td>19.169220</td>\n",
       "    </tr>\n",
       "    <tr>\n",
       "      <th>3</th>\n",
       "      <td>1000</td>\n",
       "      <td>28.0</td>\n",
       "      <td>102</td>\n",
       "      <td>0.569695</td>\n",
       "      <td>[1.0, 1.0, 0.0, 0.0, 1.0, 1.0, 0.0, 0.0, 0.0, ...</td>\n",
       "      <td>True</td>\n",
       "      <td>10</td>\n",
       "      <td>0.1</td>\n",
       "      <td>2000</td>\n",
       "      <td>MIMIC</td>\n",
       "      <td>50</td>\n",
       "      <td>19.169220</td>\n",
       "    </tr>\n",
       "    <tr>\n",
       "      <th>4</th>\n",
       "      <td>2000</td>\n",
       "      <td>28.0</td>\n",
       "      <td>102</td>\n",
       "      <td>0.569695</td>\n",
       "      <td>[1.0, 1.0, 0.0, 0.0, 1.0, 1.0, 0.0, 0.0, 0.0, ...</td>\n",
       "      <td>True</td>\n",
       "      <td>10</td>\n",
       "      <td>0.1</td>\n",
       "      <td>2000</td>\n",
       "      <td>MIMIC</td>\n",
       "      <td>50</td>\n",
       "      <td>19.169220</td>\n",
       "    </tr>\n",
       "    <tr>\n",
       "      <th>...</th>\n",
       "      <td>...</td>\n",
       "      <td>...</td>\n",
       "      <td>...</td>\n",
       "      <td>...</td>\n",
       "      <td>...</td>\n",
       "      <td>...</td>\n",
       "      <td>...</td>\n",
       "      <td>...</td>\n",
       "      <td>...</td>\n",
       "      <td>...</td>\n",
       "      <td>...</td>\n",
       "      <td>...</td>\n",
       "    </tr>\n",
       "    <tr>\n",
       "      <th>495</th>\n",
       "      <td>0</td>\n",
       "      <td>211.0</td>\n",
       "      <td>0</td>\n",
       "      <td>0.002531</td>\n",
       "      <td>[0, 0, 1, 1, 1, 1, 0, 0, 0, 0, 0, 1, 0, 0, 0, ...</td>\n",
       "      <td>True</td>\n",
       "      <td>400</td>\n",
       "      <td>0.5</td>\n",
       "      <td>2000</td>\n",
       "      <td>MIMIC</td>\n",
       "      <td>400</td>\n",
       "      <td>908.984434</td>\n",
       "    </tr>\n",
       "    <tr>\n",
       "      <th>496</th>\n",
       "      <td>100</td>\n",
       "      <td>351.0</td>\n",
       "      <td>137</td>\n",
       "      <td>54.298644</td>\n",
       "      <td>[0.0, 1.0, 0.0, 1.0, 0.0, 1.0, 0.0, 1.0, 0.0, ...</td>\n",
       "      <td>True</td>\n",
       "      <td>400</td>\n",
       "      <td>0.5</td>\n",
       "      <td>2000</td>\n",
       "      <td>MIMIC</td>\n",
       "      <td>400</td>\n",
       "      <td>908.984434</td>\n",
       "    </tr>\n",
       "    <tr>\n",
       "      <th>497</th>\n",
       "      <td>500</td>\n",
       "      <td>351.0</td>\n",
       "      <td>199</td>\n",
       "      <td>101.091799</td>\n",
       "      <td>[0.0, 1.0, 0.0, 1.0, 0.0, 1.0, 0.0, 1.0, 0.0, ...</td>\n",
       "      <td>True</td>\n",
       "      <td>400</td>\n",
       "      <td>0.5</td>\n",
       "      <td>2000</td>\n",
       "      <td>MIMIC</td>\n",
       "      <td>400</td>\n",
       "      <td>908.984434</td>\n",
       "    </tr>\n",
       "    <tr>\n",
       "      <th>498</th>\n",
       "      <td>1000</td>\n",
       "      <td>351.0</td>\n",
       "      <td>199</td>\n",
       "      <td>101.091799</td>\n",
       "      <td>[0.0, 1.0, 0.0, 1.0, 0.0, 1.0, 0.0, 1.0, 0.0, ...</td>\n",
       "      <td>True</td>\n",
       "      <td>400</td>\n",
       "      <td>0.5</td>\n",
       "      <td>2000</td>\n",
       "      <td>MIMIC</td>\n",
       "      <td>400</td>\n",
       "      <td>908.984434</td>\n",
       "    </tr>\n",
       "    <tr>\n",
       "      <th>499</th>\n",
       "      <td>2000</td>\n",
       "      <td>351.0</td>\n",
       "      <td>199</td>\n",
       "      <td>101.091799</td>\n",
       "      <td>[0.0, 1.0, 0.0, 1.0, 0.0, 1.0, 0.0, 1.0, 0.0, ...</td>\n",
       "      <td>True</td>\n",
       "      <td>400</td>\n",
       "      <td>0.5</td>\n",
       "      <td>2000</td>\n",
       "      <td>MIMIC</td>\n",
       "      <td>400</td>\n",
       "      <td>908.984434</td>\n",
       "    </tr>\n",
       "  </tbody>\n",
       "</table>\n",
       "<p>500 rows × 12 columns</p>\n",
       "</div>"
      ],
      "text/plain": [
       "     Iteration  Fitness  FEvals        Time  \\\n",
       "0            0     19.0       0    0.000127   \n",
       "1          100     28.0     101    0.562994   \n",
       "2          500     28.0     102    0.569695   \n",
       "3         1000     28.0     102    0.569695   \n",
       "4         2000     28.0     102    0.569695   \n",
       "..         ...      ...     ...         ...   \n",
       "495          0    211.0       0    0.002531   \n",
       "496        100    351.0     137   54.298644   \n",
       "497        500    351.0     199  101.091799   \n",
       "498       1000    351.0     199  101.091799   \n",
       "499       2000    351.0     199  101.091799   \n",
       "\n",
       "                                                 State  use_fast_mimic  \\\n",
       "0    [0, 0, 1, 1, 1, 1, 0, 0, 0, 0, 0, 1, 0, 0, 0, ...            True   \n",
       "1    [1.0, 1.0, 0.0, 0.0, 1.0, 1.0, 0.0, 0.0, 0.0, ...            True   \n",
       "2    [1.0, 1.0, 0.0, 0.0, 1.0, 1.0, 0.0, 0.0, 0.0, ...            True   \n",
       "3    [1.0, 1.0, 0.0, 0.0, 1.0, 1.0, 0.0, 0.0, 0.0, ...            True   \n",
       "4    [1.0, 1.0, 0.0, 0.0, 1.0, 1.0, 0.0, 0.0, 0.0, ...            True   \n",
       "..                                                 ...             ...   \n",
       "495  [0, 0, 1, 1, 1, 1, 0, 0, 0, 0, 0, 1, 0, 0, 0, ...            True   \n",
       "496  [0.0, 1.0, 0.0, 1.0, 0.0, 1.0, 0.0, 1.0, 0.0, ...            True   \n",
       "497  [0.0, 1.0, 0.0, 1.0, 0.0, 1.0, 0.0, 1.0, 0.0, ...            True   \n",
       "498  [0.0, 1.0, 0.0, 1.0, 0.0, 1.0, 0.0, 1.0, 0.0, ...            True   \n",
       "499  [0.0, 1.0, 0.0, 1.0, 0.0, 1.0, 0.0, 1.0, 0.0, ...            True   \n",
       "\n",
       "     Population Size  Keep Percent  max_iters Algorithm  Problem_size  \\\n",
       "0                 10           0.1       2000     MIMIC            50   \n",
       "1                 10           0.1       2000     MIMIC            50   \n",
       "2                 10           0.1       2000     MIMIC            50   \n",
       "3                 10           0.1       2000     MIMIC            50   \n",
       "4                 10           0.1       2000     MIMIC            50   \n",
       "..               ...           ...        ...       ...           ...   \n",
       "495              400           0.5       2000     MIMIC           400   \n",
       "496              400           0.5       2000     MIMIC           400   \n",
       "497              400           0.5       2000     MIMIC           400   \n",
       "498              400           0.5       2000     MIMIC           400   \n",
       "499              400           0.5       2000     MIMIC           400   \n",
       "\n",
       "        Runtime  \n",
       "0     19.169220  \n",
       "1     19.169220  \n",
       "2     19.169220  \n",
       "3     19.169220  \n",
       "4     19.169220  \n",
       "..          ...  \n",
       "495  908.984434  \n",
       "496  908.984434  \n",
       "497  908.984434  \n",
       "498  908.984434  \n",
       "499  908.984434  \n",
       "\n",
       "[500 rows x 12 columns]"
      ]
     },
     "execution_count": 24,
     "metadata": {},
     "output_type": "execute_result"
    }
   ],
   "source": [
    "mimic_df"
   ]
  },
  {
   "cell_type": "markdown",
   "id": "54a7c0db919d70f5",
   "metadata": {
    "collapsed": false,
    "jupyter": {
     "outputs_hidden": false
    }
   },
   "source": []
  },
  {
   "cell_type": "code",
   "execution_count": 25,
   "id": "d915746a3d836ea6",
   "metadata": {
    "ExecuteTime": {
     "end_time": "2023-10-15T21:41:44.636589064Z",
     "start_time": "2023-10-15T21:41:44.502108274Z"
    },
    "collapsed": false,
    "jupyter": {
     "outputs_hidden": false
    }
   },
   "outputs": [],
   "source": [
    "compare_df = rhc_df[['Algorithm','Iteration', 'Fitness', 'Problem_size', 'Time']] \n",
    "\n",
    "compare_df['Population Size'] = \"\"\n",
    "compare_df = pd.concat([compare_df, sa_df[['Algorithm','Iteration', 'Fitness', 'Problem_size', 'Time']]], ignore_index=True)\n",
    "compare_df = pd.concat([compare_df, ga_df[['Algorithm','Iteration', 'Fitness', 'Problem_size', 'Time', 'Population Size']]], ignore_index=True)\n",
    "compare_df = pd.concat([compare_df, mimic_df[['Algorithm','Iteration', 'Fitness', 'Problem_size', 'Time', 'Population Size']]], ignore_index=True)"
   ]
  },
  {
   "cell_type": "code",
   "execution_count": 26,
   "id": "698f7f59a54d900f",
   "metadata": {
    "ExecuteTime": {
     "end_time": "2023-10-15T22:43:59.459241241Z",
     "start_time": "2023-10-15T22:43:59.340336500Z"
    },
    "collapsed": false,
    "jupyter": {
     "outputs_hidden": false
    }
   },
   "outputs": [],
   "source": [
    "compare_df = compare_df[compare_df['Problem_size'] == 100]\n",
    "compare_df_gb = compare_df[['Algorithm','Iteration', 'Fitness', 'Time']].groupby(['Algorithm','Iteration']).mean().reset_index()"
   ]
  },
  {
   "cell_type": "code",
   "execution_count": 27,
   "id": "2e973179a1173363",
   "metadata": {
    "ExecuteTime": {
     "end_time": "2023-10-15T22:44:00.083338636Z",
     "start_time": "2023-10-15T22:44:00.076472915Z"
    },
    "collapsed": false,
    "jupyter": {
     "outputs_hidden": false
    }
   },
   "outputs": [
    {
     "data": {
      "text/html": [
       "<div>\n",
       "<style scoped>\n",
       "    .dataframe tbody tr th:only-of-type {\n",
       "        vertical-align: middle;\n",
       "    }\n",
       "\n",
       "    .dataframe tbody tr th {\n",
       "        vertical-align: top;\n",
       "    }\n",
       "\n",
       "    .dataframe thead th {\n",
       "        text-align: right;\n",
       "    }\n",
       "</style>\n",
       "<table border=\"1\" class=\"dataframe\">\n",
       "  <thead>\n",
       "    <tr style=\"text-align: right;\">\n",
       "      <th></th>\n",
       "      <th>Algorithm</th>\n",
       "      <th>Iteration</th>\n",
       "      <th>Fitness</th>\n",
       "      <th>Time</th>\n",
       "    </tr>\n",
       "  </thead>\n",
       "  <tbody>\n",
       "    <tr>\n",
       "      <th>0</th>\n",
       "      <td>GA</td>\n",
       "      <td>0</td>\n",
       "      <td>44.0</td>\n",
       "      <td>0.001556</td>\n",
       "    </tr>\n",
       "    <tr>\n",
       "      <th>1</th>\n",
       "      <td>GA</td>\n",
       "      <td>100</td>\n",
       "      <td>88.6</td>\n",
       "      <td>3.393339</td>\n",
       "    </tr>\n",
       "    <tr>\n",
       "      <th>2</th>\n",
       "      <td>GA</td>\n",
       "      <td>500</td>\n",
       "      <td>91.0</td>\n",
       "      <td>4.957469</td>\n",
       "    </tr>\n",
       "    <tr>\n",
       "      <th>3</th>\n",
       "      <td>GA</td>\n",
       "      <td>1000</td>\n",
       "      <td>91.0</td>\n",
       "      <td>4.957469</td>\n",
       "    </tr>\n",
       "    <tr>\n",
       "      <th>4</th>\n",
       "      <td>GA</td>\n",
       "      <td>2000</td>\n",
       "      <td>91.0</td>\n",
       "      <td>4.957469</td>\n",
       "    </tr>\n",
       "  </tbody>\n",
       "</table>\n",
       "</div>"
      ],
      "text/plain": [
       "  Algorithm  Iteration  Fitness      Time\n",
       "0        GA          0     44.0  0.001556\n",
       "1        GA        100     88.6  3.393339\n",
       "2        GA        500     91.0  4.957469\n",
       "3        GA       1000     91.0  4.957469\n",
       "4        GA       2000     91.0  4.957469"
      ]
     },
     "execution_count": 27,
     "metadata": {},
     "output_type": "execute_result"
    }
   ],
   "source": [
    "compare_df_gb[compare_df_gb['Algorithm'] == \"GA\"]"
   ]
  },
  {
   "cell_type": "code",
   "execution_count": 38,
   "id": "6882aaebba1a76e7",
   "metadata": {
    "ExecuteTime": {
     "end_time": "2023-10-15T22:44:01.390394202Z",
     "start_time": "2023-10-15T22:44:01.255285551Z"
    },
    "collapsed": false,
    "jupyter": {
     "outputs_hidden": false
    }
   },
   "outputs": [
    {
     "data": {
      "image/png": "[encoded data removed]",
      "text/plain": [
       "<Figure size 640x480 with 1 Axes>"
      ]
     },
     "metadata": {},
     "output_type": "display_data"
    }
   ],
   "source": [
    "for algorithm, color in zip(compare_df_gb['Algorithm'].unique(), ['r', 'g', 'b', 'orange']):\n",
    "    plt.plot(compare_df_gb[compare_df_gb['Algorithm']==algorithm]['Iteration'], compare_df_gb[compare_df_gb['Algorithm']==algorithm]['Fitness'], color, label=str(algorithm))\n",
    "\n",
    "plt.xlabel(\"Iterations\")\n",
    "plt.ylabel(\"Fitness score\")\n",
    "plt.title('Algorithm average fitness over iterations')\n",
    "plt.legend()\n",
    "plt.show()"
   ]
  },
  {
   "cell_type": "code",
   "execution_count": 39,
   "id": "8b33e44f04ab9591",
   "metadata": {
    "ExecuteTime": {
     "end_time": "2023-10-15T22:44:07.475475210Z",
     "start_time": "2023-10-15T22:44:07.342596235Z"
    },
    "collapsed": false,
    "jupyter": {
     "outputs_hidden": false
    }
   },
   "outputs": [
    {
     "data": {
      "image/png": "[encoded data removed]",
      "text/plain": [
       "<Figure size 640x480 with 1 Axes>"
      ]
     },
     "metadata": {},
     "output_type": "display_data"
    }
   ],
   "source": [
    "for algorithm, color in zip(compare_df_gb['Algorithm'].unique(), ['r', 'g', 'b', 'orange']):\n",
    "    plt.plot(compare_df_gb[compare_df_gb['Algorithm']==algorithm]['Iteration'], compare_df_gb[compare_df_gb['Algorithm']==algorithm]['Time'], color, label=str(algorithm))\n",
    "\n",
    "plt.xlabel(\"Iterations\")\n",
    "plt.ylabel(\"Fitness score\")\n",
    "plt.title('Algorithm average runtime over iterations')\n",
    "plt.legend()\n",
    "plt.show()"
   ]
  },
  {
   "cell_type": "code",
   "execution_count": null,
   "id": "e4e5e8645e11a6dc",
   "metadata": {
    "collapsed": false,
    "jupyter": {
     "outputs_hidden": false
    }
   },
   "outputs": [],
   "source": []
  }
 ],
 "metadata": {
  "kernelspec": {
   "display_name": "CS7641_Project_2",
   "language": "python",
   "name": "cs7641_project_2"
  },
  "language_info": {
   "codemirror_mode": {
    "name": "ipython",
    "version": 3
   },
   "file_extension": ".py",
   "mimetype": "text/x-python",
   "name": "python",
   "nbconvert_exporter": "python",
   "pygments_lexer": "ipython3",
   "version": "3.10.13"
  }
 },
 "nbformat": 4,
 "nbformat_minor": 5
}
