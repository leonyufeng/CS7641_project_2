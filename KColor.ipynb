{
 "cells": [
  {
   "cell_type": "code",
   "execution_count": 1,
   "id": "initial_id",
   "metadata": {
    "ExecuteTime": {
     "end_time": "2023-10-13T19:40:11.621298Z",
     "start_time": "2023-10-13T19:40:10.034631Z"
    }
   },
   "outputs": [],
   "source": [
    "import os\n",
    "import time\n",
    "import numpy as np\n",
    "import pandas as pd\n",
    "import mlrose_hiive"
   ]
  },
  {
   "cell_type": "code",
   "execution_count": 2,
   "id": "79f0f77bdf880e82",
   "metadata": {
    "collapsed": false,
    "ExecuteTime": {
     "end_time": "2023-10-13T19:40:11.622725Z",
     "start_time": "2023-10-13T19:40:11.619978Z"
    }
   },
   "outputs": [],
   "source": [
    "result_dir = \"results\"\n",
    "os.makedirs(result_dir, exist_ok=True)"
   ]
  },
  {
   "cell_type": "code",
   "execution_count": 3,
   "id": "edd47db26dd1412b",
   "metadata": {
    "collapsed": false,
    "ExecuteTime": {
     "end_time": "2023-10-13T19:40:11.624170Z",
     "start_time": "2023-10-13T19:40:11.622010Z"
    }
   },
   "outputs": [],
   "source": [
    "random_seed = 100\n",
    "problem_size_list = [50, 100, 200, 500]\n",
    "iteration_list = [100, 500, 1000, 2000]\n",
    "restart_list = [4, 8, 16]\n",
    "max_attempts = 100\n",
    "sa_temp_list = [0.1, 0.5, 0.75, 1.0, 2.0, 5.0]\n",
    "sa_decay_schedule = {\"ExpDecay\": mlrose_hiive.ExpDecay(), \"ArithDecay\": mlrose_hiive.ArithDecay(), \"GeomDecay\": mlrose_hiive.GeomDecay()}\n",
    "ga_population_size_list = [10, 50, 200, 800, 3200]\n",
    "ga_mutation_prob_list = [0.1, 0.2, 0.5]\n",
    "\n",
    "mimic_population_size_list = [10, 50, 100, 200, 500]\n",
    "mimic_keep_pct_list = [0.1, 0.2, 0.3, 0.4, 0.5]"
   ]
  },
  {
   "cell_type": "code",
   "execution_count": 4,
   "id": "3104de29f164a25d",
   "metadata": {
    "collapsed": false,
    "ExecuteTime": {
     "end_time": "2023-10-13T19:40:11.648792Z",
     "start_time": "2023-10-13T19:40:11.624384Z"
    }
   },
   "outputs": [],
   "source": [
    "problem_name = \"KColor\""
   ]
  },
  {
   "cell_type": "markdown",
   "source": [
    "## 1. Random Hill Climbing"
   ],
   "metadata": {
    "collapsed": false
   },
   "id": "85e575ff8a59cbf7"
  },
  {
   "cell_type": "code",
   "execution_count": 5,
   "id": "9052f338c9499832",
   "metadata": {
    "collapsed": false,
    "ExecuteTime": {
     "end_time": "2023-10-13T19:40:23.255086Z",
     "start_time": "2023-10-13T19:40:11.637344Z"
    }
   },
   "outputs": [
    {
     "name": "stdout",
     "output_type": "stream",
     "text": [
      "problem_size: 50\n",
      "problem_size: 100\n",
      "problem_size: 200\n",
      "problem_size: 1000\n"
     ]
    }
   ],
   "source": [
    "rhc_df = None\n",
    "\n",
    "for problem_size in problem_size_list:\n",
    "    print(f\"problem_size: {problem_size}\")\n",
    "    \n",
    "    problem = mlrose_hiive.MaxKColorGenerator.generate(seed=random_seed, number_of_nodes=problem_size)\n",
    "    \n",
    "    start_time = time.time()\n",
    "    rhc_runner = mlrose_hiive.RHCRunner(problem=problem, \n",
    "                                        experiment_name=problem_name + \"_\" + \"RHC\", \n",
    "                                        output_directory=None,\n",
    "                                        seed=random_seed, \n",
    "                                        iteration_list=iteration_list, \n",
    "                                        restart_list=restart_list,\n",
    "                                        max_attempts=max_attempts, \n",
    "                                        generate_curves=True\n",
    "                                        )\n",
    "    rhc_run_stats, rhc_run_curves = rhc_runner.run()\n",
    "    runtime = time.time() - start_time\n",
    "    \n",
    "    rhc_run_stats['Algorithm'] = \"RHC\"\n",
    "    rhc_run_stats['Problem_size'] = problem_size\n",
    "    rhc_run_stats['Runtime'] = runtime\n",
    "\n",
    "    \n",
    "    if rhc_df is None:\n",
    "        rhc_df = rhc_run_stats\n",
    "    else:\n",
    "        rhc_df = pd.concat([rhc_df, rhc_run_stats], ignore_index=True)\n",
    "    \n",
    "rhc_df.to_csv(os.path.join(result_dir, problem_name + \"_\" + \"RHC\"+\".csv\")) "
   ]
  },
  {
   "cell_type": "markdown",
   "source": [
    "## 2. Simulated Annealing"
   ],
   "metadata": {
    "collapsed": false
   },
   "id": "651498bb89e0a87f"
  },
  {
   "cell_type": "code",
   "execution_count": 6,
   "outputs": [
    {
     "name": "stdout",
     "output_type": "stream",
     "text": [
      "problem_size: 50\n",
      "problem_size: 100\n",
      "problem_size: 200\n",
      "problem_size: 1000\n"
     ]
    }
   ],
   "source": [
    "sa_df = None\n",
    "\n",
    "for problem_size in problem_size_list:\n",
    "    print(f\"problem_size: {problem_size}\")\n",
    "    \n",
    "    problem = mlrose_hiive.MaxKColorGenerator.generate(seed=random_seed, number_of_nodes=problem_size)\n",
    "    \n",
    "    start_time = time.time()\n",
    "    sa_runner = mlrose_hiive.SARunner(problem=problem,\n",
    "              experiment_name=problem_name + \"_\" + \"SA\",\n",
    "              output_directory=None, # note: specify an output directory to have results saved to disk\n",
    "              seed=random_seed,\n",
    "              iteration_list=iteration_list,\n",
    "              max_attempts=max_attempts,\n",
    "              temperature_list=sa_temp_list,\n",
    "              decay_list=[mlrose_hiive.GeomDecay, mlrose_hiive.ArithDecay, mlrose_hiive.ExpDecay],\n",
    "              generate_curves=True)\n",
    "\n",
    "    sa_run_stats, sa_run_curves = sa_runner.run()\n",
    "    runtime = time.time() - start_time\n",
    "    \n",
    "    sa_run_stats['Algorithm'] = \"SA\"\n",
    "    sa_run_stats['Problem_size'] = problem_size\n",
    "    sa_run_stats['Runtime'] = runtime\n",
    "\n",
    "    if sa_df is None:\n",
    "        sa_df = sa_run_stats\n",
    "    else:\n",
    "        sa_df = pd.concat([sa_df, sa_run_stats], ignore_index=True)\n",
    "    \n",
    "sa_df.to_csv(os.path.join(result_dir, problem_name + \"_\" + \"SA\"+\".csv\")) "
   ],
   "metadata": {
    "collapsed": false,
    "ExecuteTime": {
     "end_time": "2023-10-13T19:41:02.579628Z",
     "start_time": "2023-10-13T19:40:23.254214Z"
    }
   },
   "id": "351cd280082c52d2"
  },
  {
   "cell_type": "markdown",
   "source": [
    "## 3. Genetic Algorithm"
   ],
   "metadata": {
    "collapsed": false
   },
   "id": "2271c4a0213660c7"
  },
  {
   "cell_type": "code",
   "execution_count": 7,
   "outputs": [
    {
     "name": "stdout",
     "output_type": "stream",
     "text": [
      "problem_size: 50\n",
      "problem_size: 100\n",
      "problem_size: 200\n",
      "problem_size: 1000\n"
     ]
    }
   ],
   "source": [
    "ga_df = None\n",
    "\n",
    "for problem_size in problem_size_list:\n",
    "    print(f\"problem_size: {problem_size}\")\n",
    "    \n",
    "    problem = mlrose_hiive.MaxKColorGenerator.generate(seed=random_seed, number_of_nodes=problem_size)\n",
    "    \n",
    "    start_time = time.time()\n",
    "    ga_runner = mlrose_hiive.GARunner(problem=problem,\n",
    "              experiment_name=problem_name + \"_\" + 'GA',\n",
    "              output_directory=None, # note: specify an output directory to have results saved to disk\n",
    "              seed=random_seed,\n",
    "              iteration_list=iteration_list,\n",
    "              max_attempts=max_attempts,\n",
    "              population_sizes=ga_population_size_list,\n",
    "              mutation_rates=ga_mutation_prob_list,\n",
    "              generate_curves=True)\n",
    "    \n",
    "    ga_run_stats, ga_run_curves = ga_runner.run()\n",
    "    runtime = time.time() - start_time\n",
    "    \n",
    "    ga_run_stats['Algorithm'] = \"GA\"\n",
    "    ga_run_stats['Problem_size'] = problem_size\n",
    "    ga_run_stats['Runtime'] = runtime\n",
    "\n",
    "    if ga_df is None:\n",
    "        ga_df = ga_run_stats\n",
    "    else:\n",
    "        ga_df = pd.concat([ga_df, ga_run_stats], ignore_index=True)\n",
    "    \n",
    "ga_df.to_csv(os.path.join(result_dir, problem_name + \"_\" + \"GA\"+\".csv\")) "
   ],
   "metadata": {
    "collapsed": false,
    "ExecuteTime": {
     "end_time": "2023-10-13T21:11:47.826192Z",
     "start_time": "2023-10-13T19:41:02.502172Z"
    }
   },
   "id": "96f52273bcd7c3f5"
  },
  {
   "cell_type": "code",
   "execution_count": 8,
   "outputs": [],
   "source": [
    "## 4. MIMIC"
   ],
   "metadata": {
    "collapsed": false,
    "ExecuteTime": {
     "end_time": "2023-10-13T21:11:47.858352Z",
     "start_time": "2023-10-13T21:11:47.853652Z"
    }
   },
   "id": "1ba664df9652ed20"
  },
  {
   "cell_type": "code",
   "execution_count": null,
   "outputs": [
    {
     "name": "stdout",
     "output_type": "stream",
     "text": [
      "problem_size: 50\n",
      "problem_size: 100\n",
      "problem_size: 200\n",
      "problem_size: 1000\n"
     ]
    }
   ],
   "source": [
    "mimic_df = None\n",
    "\n",
    "for problem_size in problem_size_list:\n",
    "    print(f\"problem_size: {problem_size}\")\n",
    "    \n",
    "    problem = mlrose_hiive.MaxKColorGenerator.generate(seed=random_seed, number_of_nodes=problem_size)\n",
    "    \n",
    "    start_time = time.time()\n",
    "    ga_runner = mlrose_hiive.MIMICRunner(problem=problem,\n",
    "              experiment_name=problem_name + \"_\" + 'MIMIC',\n",
    "              output_directory=None, # note: specify an output directory to have results saved to disk\n",
    "              seed=random_seed,\n",
    "              iteration_list=iteration_list,\n",
    "              max_attempts=max_attempts,\n",
    "              population_sizes=mimic_population_size_list,\n",
    "              keep_percent_list=mimic_keep_pct_list,\n",
    "              use_fast_mimic=True,\n",
    "              generate_curves=True)\n",
    "    \n",
    "    mimic_run_stats, mimic_run_curves = ga_runner.run()\n",
    "    runtime = time.time() - start_time\n",
    "    \n",
    "    mimic_run_stats['Algorithm'] = \"MIMIC\"\n",
    "    mimic_run_stats['Problem_size'] = problem_size\n",
    "    mimic_run_stats['Runtime'] = runtime\n",
    "\n",
    "    if mimic_df is None:\n",
    "        mimic_df = mimic_run_stats\n",
    "    else:\n",
    "        mimic_df = pd.concat([mimic_df, mimic_run_stats], ignore_index=True)\n",
    "    \n",
    "mimic_df.to_csv(os.path.join(result_dir, problem_name + \"_\" + \"MIMIC\"+\".csv\")) "
   ],
   "metadata": {
    "collapsed": false,
    "is_executing": true,
    "ExecuteTime": {
     "start_time": "2023-10-13T21:11:47.854266Z"
    }
   },
   "id": "6aa8e5d8f8e0fefd"
  },
  {
   "cell_type": "code",
   "execution_count": null,
   "outputs": [],
   "source": [],
   "metadata": {
    "collapsed": false,
    "is_executing": true
   },
   "id": "6a31339d3bf48633"
  }
 ],
 "metadata": {
  "kernelspec": {
   "name": "cs7641_project_2_py38",
   "language": "python",
   "display_name": "CS7641_Project_2_py38"
  },
  "language_info": {
   "codemirror_mode": {
    "name": "ipython",
    "version": 3
   },
   "file_extension": ".py",
   "mimetype": "text/x-python",
   "name": "python",
   "nbconvert_exporter": "python",
   "pygments_lexer": "ipython3",
   "version": "3.8.18"
  }
 },
 "nbformat": 4,
 "nbformat_minor": 5
}
